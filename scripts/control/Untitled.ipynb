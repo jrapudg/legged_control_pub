{
 "cells": [
  {
   "cell_type": "code",
   "execution_count": 1,
   "id": "09b0ac44",
   "metadata": {},
   "outputs": [],
   "source": [
    "import os\n",
    "import yaml\n",
    "import numpy as np\n",
    "from scipy.interpolate import CubicSpline\n",
    "import jax\n",
    "import jax.numpy as jnp\n",
    "import mujoco\n",
    "from mujoco import rollout\n",
    "import concurrent.futures\n",
    "import threading"
   ]
  },
  {
   "cell_type": "code",
   "execution_count": 104,
   "id": "28739565",
   "metadata": {},
   "outputs": [],
   "source": [
    "class GaitScheduler:\n",
    "    #def __init__(self, gait_path = '../gaits/walking_gait_S30ms_O40ms_H10cm.tsv', phase_time = 0):\n",
    "    def __init__(self, gait_path = '../gaits/walking_gait_S10ms_O15ms_H10cm.tsv', phase_time = 0):\n",
    "    #def __init__(self, gait_path = '../gaits/walking_gait_S10ms_O15ms_H20cm.tsv', phase_time = 0):\n",
    "        # Load the configuration file\n",
    "        with open(gait_path, 'r') as file:\n",
    "            gait_array = np.loadtxt(file, delimiter='\\t')\n",
    "        \n",
    "        # Load model\n",
    "        self.gait = gait_array\n",
    "        self.phase_length = gait_array.shape[1]\n",
    "        self.phase_time = phase_time\n",
    "        self.indices = jnp.arange(self.phase_length)\n",
    "        \n",
    "    def roll(self):\n",
    "        self.phase_time += 1\n",
    "        self.indices = jnp.roll(self.indices, -1)\n",
    "    \n",
    "    def get_current_ref(self):\n",
    "        return self.gait[:, self.phase_time]\n",
    "    \n",
    "class MPPI:\n",
    "    def __init__(self, model_path = \"../models/go1/go1_scene_jax_no_collision.xml\",\n",
    "                 config_path=\"configs/mppi.yml\") -> None:\n",
    "        # load the configuration file\n",
    "        with open(config_path, 'r') as file:\n",
    "            params = yaml.safe_load(file)\n",
    "\n",
    "        # Load model\n",
    "        self.model = mujoco.MjModel.from_xml_path(model_path)\n",
    "        self.model.opt.timestep = params['dt']\n",
    "\n",
    "        # MPPI controller configuration\n",
    "        self.temperature = params['lambda']\n",
    "        self.horizon = params['horizon']\n",
    "        self.n_samples = params['n_samples']\n",
    "        self.noise_sigma = jnp.array(params['noise_sigma'])\n",
    "        self.num_workers = params['n_workers']\n",
    "        self.sampling_init = jnp.array([0.073,  1.34, -2.83,  \n",
    "                                        0.073,  1.34, -2.83,  \n",
    "                                        0.073,  1.34, -2.83,  \n",
    "                                        0.073,  1.34, -2.83])\n",
    "        \n",
    "        # Cost\n",
    "        self.Q = jnp.diag(jnp.array(params['Q_diag']))\n",
    "        self.R = jnp.diag(jnp.array(params['R_diag']))\n",
    "        self.x_ref = jnp.concatenate([jnp.array(params['q_ref']), jnp.array(params['v_ref'])])\n",
    "        self.q_ref = jnp.array(params['q_ref'])\n",
    "        self.v_ref = jnp.array(params['v_ref'])\n",
    "        self.body_ref = jnp.concatenate([self.q_ref[:7], self.v_ref[:6]])\n",
    "        \n",
    "        #self.body_ref = self.body_ref.at[1].set(1)\n",
    "        #self.body_ref = self.body_ref.at[0].set(2)\n",
    "        \n",
    "        # Threding\n",
    "        self.thread_local = threading.local()\n",
    "\n",
    "        # Get env parameters\n",
    "        self.act_dim = 12\n",
    "        self.act_max = [0.863, 4.501, -0.888]*4\n",
    "        self.act_min = [-0.863, -0.686, -2.818]*4\n",
    "        \n",
    "        # Gait scheduler\n",
    "        self.gait_scheduler = GaitScheduler()\n",
    "        #self.x_ref = jnp.concatenate([jnp.array(params['q_ref']), jnp.array(params['v_ref'])])\n",
    "        \n",
    "        # Rollouts\n",
    "        self.h = params['dt']\n",
    "        self.sample_type = params['sample_type']\n",
    "        self.n_knots = params['n_knots']\n",
    "        self.random_generator = np.random.default_rng(params[\"seed\"])\n",
    "        \n",
    "        self.rollout_func = self.threaded_rollout\n",
    "        self.cost_func = jax.jit(jax.vmap(jax.vmap(self.quadruped_cost, in_axes=(0, 0, None, None, None, None, None)), in_axes=(1, 1, 0, None, None, None, None))) #, device=gpu_device)\n",
    "        self.state_rollouts = np.zeros((self.n_samples, self.horizon, mujoco.mj_stateSize(self.model, mujoco.mjtState.mjSTATE_FULLPHYSICS.value)))\n",
    "            \n",
    "        self.trajectory = None\n",
    "        self.reset_planner() \n",
    "        self.update(self.x_ref)\n",
    "        self.reset_planner()     \n",
    "                \n",
    "    def reset_planner(self):\n",
    "        self.trajectory = np.zeros((self.horizon, self.act_dim))\n",
    "        self.trajectory += self.sampling_init\n",
    "            \n",
    "    def generate_noise(self, size):\n",
    "        return self.random_generator.normal(size=size) * self.noise_sigma\n",
    "    \n",
    "    def sample_delta_u(self):\n",
    "        if self.sample_type == 'normal':\n",
    "            size = (self.n_samples, self.horizon, self.act_dim)\n",
    "            return self.generate_noise(size)\n",
    "        elif self.sample_type == 'cubic':\n",
    "            indices = np.arange(self.n_knots)*self.horizon//self.n_knots\n",
    "            size = (self.n_samples, self.n_knots, self.act_dim)\n",
    "            knot_points = self.generate_noise(size)\n",
    "            cubic_spline = CubicSpline(indices, knot_points, axis=1)\n",
    "            return cubic_spline(np.arange(self.horizon))\n",
    "        \n",
    "    def perturb_action(self):\n",
    "        if self.sample_type == 'normal':\n",
    "            size = (self.n_samples, self.horizon, self.act_dim)\n",
    "            actions = self.trajectory + self.generate_noise(size)\n",
    "            actions = np.clip(actions, self.act_min, self.act_max)\n",
    "            return actions\n",
    "        \n",
    "        elif self.sample_type == 'cubic':\n",
    "            indices_float = jnp.linspace(0, self.horizon - 1, num=self.n_knots)\n",
    "            indices = jnp.round(indices_float).astype(int)\n",
    "            size = (self.n_samples, self.n_knots, self.act_dim)\n",
    "            knot_points = self.trajectory[indices] + self.generate_noise(size)\n",
    "            cubic_spline = CubicSpline(indices, knot_points, axis=1)\n",
    "            actions = cubic_spline(np.arange(self.horizon))\n",
    "            actions = np.clip(actions, self.act_min, self.act_max)\n",
    "            return actions\n",
    "        \n",
    "    def update(self, obs): \n",
    "        actions = self.perturb_action()\n",
    "        self.rollout_func(self.state_rollouts, actions, np.repeat([np.concatenate([[0],obs])], self.n_samples, axis=0), num_workers=self.num_workers, nstep=self.horizon)\n",
    "        costs = self.cost_func(self.state_rollouts[:,:,1:], actions, \n",
    "                               self.gait_scheduler.indices[:self.horizon],\n",
    "                               self.Q, self.R, self.gait_scheduler.gait, self.body_ref)\n",
    "        #costs = self.cost_func(self.state_rollouts[:,:,1:], actions)\n",
    "        \n",
    "        self.gait_scheduler.roll()\n",
    "        costs_sum = costs.sum(axis=0)\n",
    "        \n",
    "        # MPPI weights calculation\n",
    "        ## Scale parameters\n",
    "        min_cost = np.min(costs_sum)\n",
    "        max_cost = np.max(costs_sum)\n",
    "        \n",
    "        exp_weights = np.exp(-1/self.temperature * ((costs_sum - min_cost)/(max_cost - min_cost)))\n",
    "        weighted_delta_u = exp_weights.reshape(self.n_samples, 1, 1) * actions\n",
    "        weighted_delta_u = np.sum(weighted_delta_u, axis=0) / (np.sum(exp_weights) + 1e-10)\n",
    "        updated_actions = np.clip(weighted_delta_u, self.act_min, self.act_max)\n",
    "    \n",
    "        # Pop out first action from the trajectory and repeat last action\n",
    "        self.trajectory = np.roll(updated_actions, shift=-1, axis=0)\n",
    "        self.trajectory[-1] = updated_actions[-1]\n",
    "\n",
    "        # Output first action (MPC)\n",
    "        action = updated_actions[0] \n",
    "        return action\n",
    "    \n",
    "    def thread_initializer(self):\n",
    "        self.thread_local.data = mujoco.MjData(self.model)\n",
    "\n",
    "    def call_rollout(self, initial_state, ctrl, state):\n",
    "        rollout.rollout(self.model, self.thread_local.data, skip_checks=True,\n",
    "                        nroll=state.shape[0], nstep=state.shape[1],\n",
    "                        initial_state=initial_state, control=ctrl, state=state)\n",
    "\n",
    "    def threaded_rollout(self, state, ctrl, initial_state, num_workers=32, nstep=5):\n",
    "        n = initial_state.shape[0] // num_workers  # integer division\n",
    "\n",
    "        chunks = []  # a list of tuples, one per worker\n",
    "        for i in range(num_workers-1):\n",
    "            chunks.append(\n",
    "                (initial_state[i*n:(i+1)*n], ctrl[i*n:(i+1)*n], state[i*n:(i+1)*n]))\n",
    "\n",
    "        # Last chunk, absorbing the remainder:\n",
    "        chunks.append(\n",
    "            (initial_state[(num_workers-1)*n:], ctrl[(num_workers-1)*n:],\n",
    "                state[(num_workers-1)*n:]))\n",
    "\n",
    "        with concurrent.futures.ThreadPoolExecutor(\n",
    "            max_workers=num_workers, initializer=self.thread_initializer) as executor:\n",
    "            futures = []\n",
    "            for chunk in chunks:\n",
    "                futures.append(executor.submit(self.call_rollout, *chunk))\n",
    "            for future in concurrent.futures.as_completed(futures):\n",
    "                future.result()\n",
    "    \n",
    "    def quaternion_distance(self, q1, q2):\n",
    "        return 1 - jnp.abs(jnp.dot(q1,q2))\n",
    "    \n",
    "    def quadruped_cost(self, x, u, phase_time, Q, R, joints_gait, body_ref):\n",
    "        kp = 30\n",
    "        kd = 3\n",
    "\n",
    "        joints_ref = joints_gait[:, phase_time]\n",
    "        x_ref = jnp.concatenate([body_ref[:7], joints_ref[:12], body_ref[7:], joints_ref[12:]])\n",
    "\n",
    "        # Compute the error terms\n",
    "        x_error = x - x_ref\n",
    "\n",
    "        x_error = x_error.at[3:7].set(self.quaternion_distance(x[3:7], x_ref[3:7]))\n",
    "        u_error = kp*(u - x[7:19]) #+ kd*(x_ref[25:] - x[25:])\n",
    "        # Compute the cost\n",
    "        cost = jnp.dot(x_error, jnp.dot(Q, x_error)) + jnp.dot(u_error, jnp.dot(R, u_error))\n",
    "        return cost"
   ]
  },
  {
   "cell_type": "code",
   "execution_count": null,
   "id": "f16af736",
   "metadata": {},
   "outputs": [],
   "source": []
  },
  {
   "cell_type": "code",
   "execution_count": null,
   "id": "f65c802a",
   "metadata": {},
   "outputs": [],
   "source": []
  },
  {
   "cell_type": "code",
   "execution_count": null,
   "id": "c82d7546",
   "metadata": {},
   "outputs": [],
   "source": []
  },
  {
   "cell_type": "code",
   "execution_count": 105,
   "id": "a5c3da23",
   "metadata": {},
   "outputs": [],
   "source": [
    "mppi = MPPI()"
   ]
  },
  {
   "cell_type": "code",
   "execution_count": 106,
   "id": "44f6d0b4",
   "metadata": {},
   "outputs": [],
   "source": [
    "actions = mppi.perturb_action()"
   ]
  },
  {
   "cell_type": "code",
   "execution_count": 107,
   "id": "efbdbf63",
   "metadata": {},
   "outputs": [],
   "source": [
    "obs = mppi.x_ref"
   ]
  },
  {
   "cell_type": "code",
   "execution_count": 108,
   "id": "499dc29a",
   "metadata": {},
   "outputs": [],
   "source": [
    "mppi.rollout_func(mppi.state_rollouts, actions, np.repeat([np.concatenate([[0],obs])], mppi.n_samples, axis=0), num_workers=mppi.num_workers, nstep=mppi.horizon)"
   ]
  },
  {
   "cell_type": "code",
   "execution_count": null,
   "id": "19acd19d",
   "metadata": {},
   "outputs": [],
   "source": []
  },
  {
   "cell_type": "code",
   "execution_count": 109,
   "id": "f1f78365",
   "metadata": {},
   "outputs": [],
   "source": [
    "mppi.gait_scheduler.roll()"
   ]
  },
  {
   "cell_type": "code",
   "execution_count": 110,
   "id": "582db06b",
   "metadata": {},
   "outputs": [],
   "source": [
    "states = mppi.state_rollouts[:,:,1:]"
   ]
  },
  {
   "cell_type": "code",
   "execution_count": 111,
   "id": "007d371b",
   "metadata": {},
   "outputs": [],
   "source": [
    "costs = mppi.cost_func(states, actions, \n",
    "                       mppi.gait_scheduler.indices[:mppi.horizon],\n",
    "                       mppi.Q, mppi.R, mppi.gait_scheduler.gait, mppi.body_ref)"
   ]
  },
  {
   "cell_type": "code",
   "execution_count": 112,
   "id": "b66fe262",
   "metadata": {},
   "outputs": [
    {
     "data": {
      "text/plain": [
       "Array([36855.96 , 35630.77 , 37493.094, 36326.848, 37771.19 , 36509.465,\n",
       "       37507.91 , 37759.492, 36800.926, 36881.44 , 37271.46 , 37890.79 ,\n",
       "       36977.965, 37190.555, 36639.04 , 36238.504, 36328.05 , 37099.324,\n",
       "       35415.598, 36718.27 , 36676.65 , 37018.465, 37894.37 , 37299.3  ,\n",
       "       37787.516, 37765.56 , 36597.19 , 36721.27 , 37220.418, 36296.73 ],      dtype=float32)"
      ]
     },
     "execution_count": 112,
     "metadata": {},
     "output_type": "execute_result"
    }
   ],
   "source": [
    "costs_sum = costs.sum(axis=0)\n",
    "costs_sum"
   ]
  },
  {
   "cell_type": "code",
   "execution_count": 113,
   "id": "1a082ec9",
   "metadata": {},
   "outputs": [],
   "source": [
    "def quaternion_distance_np(q1, q2):\n",
    "    return 1 - np.abs(np.dot(q1,q2))\n",
    "\n",
    "def quadruped_cost_np(x, u, x_ref, Q, R, quat_ref):\n",
    "    kp = 30\n",
    "    kd = 3\n",
    "\n",
    "    # Compute the error terms\n",
    "    x_error = x - x_ref\n",
    "\n",
    "    q_dist = quaternion_distance_np(x[:, 3:7], quat_ref)\n",
    "    x_error[:, 3] = q_dist\n",
    "    x_error[:, 4] = q_dist\n",
    "    x_error[:, 5] = q_dist\n",
    "    x_error[:, 6] = q_dist\n",
    "\n",
    "    u_error = kp * (u - x[:, 7:19]) #- kd * x[:, 25:]\n",
    "    # Compute cost using einsum for precise matrix operations\n",
    "    # Apply the matrix Q to x_error and R to u_error, sum over appropriate dimensions\n",
    "    cost = np.einsum('ij,ik,jk->i', x_error, x_error, Q) + np.einsum('ij,ik,jk->i', u_error, u_error, R)\n",
    "    return cost\n",
    "\n",
    "def calculate_total_cost(states, actions, phase_time, joints_gait, body_ref):\n",
    "    num_samples = states.shape[0]\n",
    "    num_pairs = states.shape[1]\n",
    "\n",
    "    # Flatten states and actions to two dimensions, treating all pairs per sample as a batch\n",
    "    states = states.reshape(-1, states.shape[2])\n",
    "    actions = actions.reshape(-1, actions.shape[2])\n",
    "    \n",
    "    joints_ref = joints_gait[:, phase_time]\n",
    "    joints_ref = joints_ref.T\n",
    "    joints_ref = np.tile(joints_ref, (30, 1, 1))\n",
    "    joints_ref = joints_ref.reshape(-1, joints_ref.shape[2])\n",
    "    body_ref = np.repeat(body_ref[np.newaxis,:], 1200, axis=0)\n",
    "    # Transpose the repeated array\n",
    "\n",
    "    x_ref = np.concatenate([body_ref[:,:7], joints_ref[:,:12], body_ref[:,7:], joints_ref[:,12:]], axis=1)\n",
    "\n",
    "    # Compute batch costs\n",
    "    costs = quadruped_cost_np(states, actions, x_ref, mppi.Q, mppi.R, mppi.x_ref[3:7])\n",
    "    # Sum costs for each sample\n",
    "    total_costs = costs.reshape(num_samples, num_pairs).sum(axis=1)\n",
    "\n",
    "    return total_costs.round(2)"
   ]
  },
  {
   "cell_type": "code",
   "execution_count": 114,
   "id": "51124e73",
   "metadata": {},
   "outputs": [
    {
     "data": {
      "text/plain": [
       "array([36856.15, 35630.97, 37493.29, 36327.05, 37771.41, 36509.65,\n",
       "       37508.12, 37759.69, 36801.14, 36881.65, 37271.66, 37890.99,\n",
       "       36978.17, 37190.76, 36639.24, 36238.7 , 36328.24, 37099.54,\n",
       "       35415.78, 36718.47, 36676.86, 37018.66, 37894.58, 37299.51,\n",
       "       37787.73, 37765.76, 36597.39, 36721.47, 37220.61, 36296.92])"
      ]
     },
     "execution_count": 114,
     "metadata": {},
     "output_type": "execute_result"
    }
   ],
   "source": [
    "costs_np = calculate_total_cost(states, actions, \n",
    "                     mppi.gait_scheduler.indices[:mppi.horizon], \n",
    "                     mppi.gait_scheduler.gait, mppi.body_ref)\n",
    "costs_np"
   ]
  },
  {
   "cell_type": "code",
   "execution_count": 115,
   "id": "7a393736",
   "metadata": {},
   "outputs": [
    {
     "data": {
      "text/plain": [
       "(30,)"
      ]
     },
     "execution_count": 115,
     "metadata": {},
     "output_type": "execute_result"
    }
   ],
   "source": [
    "costs_np.shape"
   ]
  },
  {
   "cell_type": "code",
   "execution_count": 116,
   "id": "fbea9dcd",
   "metadata": {},
   "outputs": [],
   "source": [
    "cost_selc = costs_np"
   ]
  },
  {
   "cell_type": "code",
   "execution_count": 117,
   "id": "7755b0c5",
   "metadata": {},
   "outputs": [],
   "source": [
    "min_cost = np.min(cost_selc)\n",
    "max_cost = np.max(cost_selc)\n",
    "\n",
    "exp_weights = np.exp(-1/mppi.temperature * ((cost_selc - min_cost)/(max_cost - min_cost)))\n",
    "weighted_delta_u = exp_weights.reshape(mppi.n_samples, 1, 1) * actions\n",
    "weighted_delta_u = np.sum(weighted_delta_u, axis=0) / (np.sum(exp_weights) + 1e-10)"
   ]
  },
  {
   "cell_type": "code",
   "execution_count": 118,
   "id": "2b4f918f",
   "metadata": {},
   "outputs": [],
   "source": [
    "updated_actions = np.clip(weighted_delta_u, np.array(mppi.act_min), np.array(mppi.act_max))"
   ]
  },
  {
   "cell_type": "code",
   "execution_count": 119,
   "id": "ec077d4c",
   "metadata": {},
   "outputs": [],
   "source": [
    "# Pop out first action from the trajectory and repeat last action\n",
    "trajectory = np.roll(updated_actions, shift=-1, axis=0)\n",
    "trajectory[-1] = updated_actions[-1]\n",
    "\n",
    "# Output first action (MPC)\n",
    "action = updated_actions[0]  "
   ]
  },
  {
   "cell_type": "code",
   "execution_count": 120,
   "id": "3d9364aa",
   "metadata": {},
   "outputs": [
    {
     "data": {
      "text/plain": [
       "array([ 0.08408074,  1.31533897, -2.6558156 ,  0.07340127,  1.40455151,\n",
       "       -2.80647206,  0.09779222,  1.35396206, -2.70680928,  0.07467818,\n",
       "        1.36480606, -2.79702997])"
      ]
     },
     "execution_count": 120,
     "metadata": {},
     "output_type": "execute_result"
    }
   ],
   "source": [
    "action"
   ]
  },
  {
   "cell_type": "code",
   "execution_count": 121,
   "id": "02f772ea",
   "metadata": {},
   "outputs": [
    {
     "data": {
      "text/plain": [
       "Array([0.  , 0.  , 0.27, 1.  , 0.  , 0.  , 0.  , 0.  , 0.  , 0.  , 0.  ,\n",
       "       0.  , 0.  ], dtype=float32)"
      ]
     },
     "execution_count": 121,
     "metadata": {},
     "output_type": "execute_result"
    }
   ],
   "source": [
    "mppi.body_ref"
   ]
  },
  {
   "cell_type": "code",
   "execution_count": null,
   "id": "bdf3a31a",
   "metadata": {},
   "outputs": [],
   "source": []
  },
  {
   "cell_type": "code",
   "execution_count": 122,
   "id": "07d96f5e",
   "metadata": {},
   "outputs": [
    {
     "data": {
      "text/plain": [
       "array([ 0.08408074,  1.31533897, -2.6558156 ,  0.07340127,  1.40455151,\n",
       "       -2.80647206,  0.09779222,  1.35396206, -2.70680928,  0.07467818,\n",
       "        1.36480606, -2.79702997])"
      ]
     },
     "execution_count": 122,
     "metadata": {},
     "output_type": "execute_result"
    }
   ],
   "source": [
    "action"
   ]
  },
  {
   "cell_type": "code",
   "execution_count": null,
   "id": "4a8db4df",
   "metadata": {},
   "outputs": [],
   "source": []
  },
  {
   "cell_type": "code",
   "execution_count": null,
   "id": "9fe914b1",
   "metadata": {},
   "outputs": [],
   "source": []
  },
  {
   "cell_type": "code",
   "execution_count": null,
   "id": "d6876f9c",
   "metadata": {},
   "outputs": [],
   "source": []
  },
  {
   "cell_type": "code",
   "execution_count": null,
   "id": "70ae9558",
   "metadata": {},
   "outputs": [],
   "source": []
  },
  {
   "cell_type": "code",
   "execution_count": null,
   "id": "9a9ecfe0",
   "metadata": {},
   "outputs": [],
   "source": []
  },
  {
   "cell_type": "code",
   "execution_count": 94,
   "id": "796045c2",
   "metadata": {},
   "outputs": [],
   "source": [
    "joints_gait = mppi.gait_scheduler.gait"
   ]
  },
  {
   "cell_type": "code",
   "execution_count": 95,
   "id": "d11651e2",
   "metadata": {},
   "outputs": [
    {
     "data": {
      "text/plain": [
       "array([0.9   , 0.9   , 0.9   , 0.9   , 0.9   , 0.9   , 0.9   , 0.9   ,\n",
       "       0.9   , 0.9   , 0.9   , 0.9   , 0.9   , 0.9   , 0.9   , 0.9   ,\n",
       "       1.0149, 1.0958, 1.148 , 1.1736, 1.1736, 1.148 , 1.0958, 1.0149,\n",
       "       0.9   , 0.9   , 0.9   , 0.9   , 0.9   , 0.9   , 0.9   , 0.9   ,\n",
       "       0.9   , 0.9   , 0.9   , 0.9   , 0.9   , 0.9   , 0.9   , 0.9   ,\n",
       "       0.9   , 0.9   , 0.9   , 0.9   , 0.9   , 0.9   , 0.9   , 0.9   ,\n",
       "       0.9   , 0.9   ])"
      ]
     },
     "execution_count": 95,
     "metadata": {},
     "output_type": "execute_result"
    }
   ],
   "source": [
    "joints_gait[1]"
   ]
  },
  {
   "cell_type": "code",
   "execution_count": 96,
   "id": "4896b45c",
   "metadata": {},
   "outputs": [],
   "source": [
    "phase_time = mppi.gait_scheduler.indices[:mppi.horizon]"
   ]
  },
  {
   "cell_type": "code",
   "execution_count": 97,
   "id": "5b69a992",
   "metadata": {},
   "outputs": [],
   "source": [
    "joints_ref = joints_gait[:, phase_time]"
   ]
  },
  {
   "cell_type": "code",
   "execution_count": 98,
   "id": "a9c745a8",
   "metadata": {},
   "outputs": [
    {
     "data": {
      "text/plain": [
       "array([0.9   , 0.9   , 0.9   , 0.9   , 0.9   , 0.9   , 0.9   , 0.9   ,\n",
       "       0.9   , 0.9   , 0.9   , 0.9   , 0.9   , 0.9   , 1.0149, 1.0958,\n",
       "       1.148 , 1.1736, 1.1736, 1.148 , 1.0958, 1.0149, 0.9   , 0.9   ,\n",
       "       0.9   , 0.9   , 0.9   , 0.9   , 0.9   , 0.9   , 0.9   , 0.9   ,\n",
       "       0.9   , 0.9   , 0.9   , 0.9   , 0.9   , 0.9   , 0.9   , 0.9   ])"
      ]
     },
     "execution_count": 98,
     "metadata": {},
     "output_type": "execute_result"
    }
   ],
   "source": [
    "joints_ref[1]"
   ]
  },
  {
   "cell_type": "code",
   "execution_count": null,
   "id": "7a518e41",
   "metadata": {},
   "outputs": [],
   "source": [
    "body_ref"
   ]
  },
  {
   "cell_type": "code",
   "execution_count": null,
   "id": "eb646f67",
   "metadata": {},
   "outputs": [],
   "source": [
    "joints_ref = joints_gait[:, phase_time]\n",
    "joints_ref = joints_ref.T\n",
    "joints_ref = np.tile(joints_ref, (30, 1, 1))\n",
    "joints_ref = joints_ref.reshape(-1, joints_ref.shape[2])\n",
    "body_ref = mppi.body_ref\n",
    "body_ref = np.repeat(body_ref[np.newaxis,:], 1200, axis=0)"
   ]
  },
  {
   "cell_type": "code",
   "execution_count": null,
   "id": "ded59311",
   "metadata": {},
   "outputs": [],
   "source": [
    "x_ref = np.concatenate([body_ref[:,:7], joints_ref[:,:12], body_ref[:,7:], joints_ref[:,12:]], axis=1)"
   ]
  },
  {
   "cell_type": "code",
   "execution_count": null,
   "id": "3e7e26f4",
   "metadata": {},
   "outputs": [],
   "source": [
    "body_ref.shape"
   ]
  },
  {
   "cell_type": "code",
   "execution_count": null,
   "id": "d625498e",
   "metadata": {},
   "outputs": [],
   "source": [
    "x_ref.shape"
   ]
  },
  {
   "cell_type": "code",
   "execution_count": null,
   "id": "4840595f",
   "metadata": {},
   "outputs": [],
   "source": [
    "states.shape"
   ]
  },
  {
   "cell_type": "code",
   "execution_count": null,
   "id": "4d098a24",
   "metadata": {},
   "outputs": [],
   "source": [
    "states_r = states.reshape(-1, states.shape[2])\n",
    "actions_r = actions.reshape(-1, actions.shape[2])"
   ]
  },
  {
   "cell_type": "code",
   "execution_count": null,
   "id": "d6d1a4aa",
   "metadata": {},
   "outputs": [],
   "source": [
    "states_r.shape"
   ]
  },
  {
   "cell_type": "code",
   "execution_count": null,
   "id": "680fde09",
   "metadata": {},
   "outputs": [],
   "source": [
    "joints_ref = joints_gait[:, phase_time]"
   ]
  },
  {
   "cell_type": "code",
   "execution_count": null,
   "id": "cfe28803",
   "metadata": {},
   "outputs": [],
   "source": [
    "joints_ref = joints_ref.T"
   ]
  },
  {
   "cell_type": "code",
   "execution_count": null,
   "id": "c7d37f75",
   "metadata": {},
   "outputs": [],
   "source": [
    "joints_ref.shape"
   ]
  },
  {
   "cell_type": "code",
   "execution_count": null,
   "id": "96c58909",
   "metadata": {},
   "outputs": [],
   "source": [
    "joints_ref = np.tile(joints_ref, (30, 1, 1))"
   ]
  },
  {
   "cell_type": "code",
   "execution_count": null,
   "id": "f9ec2bd3",
   "metadata": {},
   "outputs": [],
   "source": [
    "joints_ref = joints_ref.reshape(-1, joints_ref.shape[2])"
   ]
  },
  {
   "cell_type": "code",
   "execution_count": null,
   "id": "b4865c88",
   "metadata": {},
   "outputs": [],
   "source": [
    "joints_ref.shape"
   ]
  },
  {
   "cell_type": "code",
   "execution_count": null,
   "id": "9ae12cd9",
   "metadata": {},
   "outputs": [],
   "source": []
  }
 ],
 "metadata": {
  "kernelspec": {
   "display_name": "Python (base)",
   "language": "python",
   "name": "base"
  },
  "language_info": {
   "codemirror_mode": {
    "name": "ipython",
    "version": 3
   },
   "file_extension": ".py",
   "mimetype": "text/x-python",
   "name": "python",
   "nbconvert_exporter": "python",
   "pygments_lexer": "ipython3",
   "version": "3.9.13"
  }
 },
 "nbformat": 4,
 "nbformat_minor": 5
}
