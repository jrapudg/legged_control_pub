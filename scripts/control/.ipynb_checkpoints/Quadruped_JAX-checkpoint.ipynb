{
 "cells": [
  {
   "cell_type": "code",
   "execution_count": 1,
   "id": "7a3f8ae4",
   "metadata": {},
   "outputs": [],
   "source": [
    "import os\n",
    "import yaml\n",
    "import numpy as np\n",
    "from scipy.interpolate import CubicSpline\n",
    "import jax\n",
    "import jax.numpy as jnp\n",
    "import mujoco\n",
    "from mujoco import mjx"
   ]
  },
  {
   "cell_type": "code",
   "execution_count": 2,
   "id": "5ee86f56",
   "metadata": {},
   "outputs": [],
   "source": [
    "from functools import partial\n",
    "import chex"
   ]
  },
  {
   "cell_type": "code",
   "execution_count": 3,
   "id": "08d9ed47",
   "metadata": {},
   "outputs": [
    {
     "data": {
      "text/plain": [
       "CpuDevice(id=0)"
      ]
     },
     "execution_count": 3,
     "metadata": {},
     "output_type": "execute_result"
    }
   ],
   "source": [
    "cpu_device = jax.devices('cpu')[0]\n",
    "cpu_device"
   ]
  },
  {
   "cell_type": "code",
   "execution_count": 4,
   "id": "468eeb8c",
   "metadata": {},
   "outputs": [
    {
     "data": {
      "text/plain": [
       "cuda(id=0)"
      ]
     },
     "execution_count": 4,
     "metadata": {},
     "output_type": "execute_result"
    }
   ],
   "source": [
    "gpu_device = jax.devices('gpu')[0]\n",
    "gpu_device"
   ]
  },
  {
   "cell_type": "code",
   "execution_count": 5,
   "id": "80851657",
   "metadata": {},
   "outputs": [],
   "source": [
    "#mj_model = mujoco.MjModel.from_xml_path(\"../models/go1/go1_scene_jax_no_collision.xml\")"
   ]
  },
  {
   "cell_type": "code",
   "execution_count": 6,
   "id": "7389c6ec",
   "metadata": {},
   "outputs": [],
   "source": [
    "def load_rollout_jax(step_fn):\n",
    "    def rollout_aux(obs, actions):\n",
    "        carry = (obs)\n",
    "        _, output = jax.lax.scan(f=step_fn, init=carry, xs=actions)\n",
    "        return output\n",
    "    func = jax.jit(jax.vmap(rollout_aux, in_axes=(None, 0)))\n",
    "    return func"
   ]
  },
  {
   "cell_type": "code",
   "execution_count": 7,
   "id": "f84f2b4c",
   "metadata": {},
   "outputs": [],
   "source": [
    "class MPPI_JAX:\n",
    "    def __init__(self, \n",
    "                 model_path = \"../models/go1/go1_scene_jax_no_collision.xml\",\n",
    "                 config_path=\"configs/mppi.yml\") -> None:\n",
    "        # load the configuration file\n",
    "        with open(config_path, 'r') as file:\n",
    "            params = yaml.safe_load(file)\n",
    "\n",
    "        # load model\n",
    "        self.model = mujoco.MjModel.from_xml_path(model_path)\n",
    "        #self.model.opt.solver = mujoco.mjtSolver.mjSOL_CG\n",
    "        #self.model.opt.iterations = 6\n",
    "        #self.model.opt.ls_iterations = 6\n",
    "    \n",
    "        self.mjx_model = mjx.device_put(self.model)\n",
    "        self.mjx_data = mjx.make_data(self.mjx_model)\n",
    "        self.model.opt.timestep = params['dt']\n",
    "\n",
    "        # mppi controller configuration\n",
    "        self.temperature = params['lambda']\n",
    "        self.horizon = params['horizon']\n",
    "        self.n_samples = params['n_samples']\n",
    "        self.noise_sigma = jnp.array(params['noise_sigma'])\n",
    "        self.num_workers = params['n_workers']\n",
    "        self.sampling_init = jnp.array([0.073,  1.34 , -2.83 ,  \n",
    "                                        0.073,  1.34 , -2.83 ,  \n",
    "                                        0.073,  1.34 , -2.83 ,  \n",
    "                                        0.073,  1.34 , -2.83 ])\n",
    "        \n",
    "        # Cost\n",
    "        self.Q = jnp.diag(jnp.array(params['Q_diag']))\n",
    "        self.R = jnp.diag(jnp.array(params['R_diag']))\n",
    "        self.x_ref = jnp.concatenate([jnp.array(params['q_ref']), jnp.array(params['v_ref'])])\n",
    "\n",
    "        # Get env parameters\n",
    "        self.act_dim = 12\n",
    "        self.act_max = jnp.array([0.863, 4.501, -0.888]*4)\n",
    "        self.act_min = jnp.array([-0.863, -0.686, -2.818]*4)\n",
    "        \n",
    "        # Rollouts\n",
    "        self.h = params['dt']\n",
    "        self.sample_type = params['sample_type']\n",
    "        self.n_knots = params['n_knots']\n",
    "        self.rollout_func = jax.jit(self.rollout_jax(), device=gpu_device)\n",
    "        self.random_generator = np.random.default_rng(params[\"seed\"])\n",
    "        \n",
    "        self.trajectory = None\n",
    "        self.reset_planner() \n",
    "        self.update(self.x_ref)\n",
    "        self.reset_planner()     \n",
    "    \n",
    "    def rollout_jax(self):\n",
    "        def step_wrapper_mujoco(carry, action):\n",
    "            obs = carry\n",
    "            data = mjx.make_data(self.mjx_model)\n",
    "            data = data.replace(qpos=obs.qpos, qvel=obs.qvel, ctrl=action)\n",
    "            data = mjx.step(self.mjx_model, data)\n",
    "            \n",
    "            next_obs = jnp.concatenate([data.qpos, data.qvel])\n",
    "            cost = self.quadruped_cost(next_obs, action)\n",
    "            carry = data\n",
    "            output = (next_obs, cost)\n",
    "            return carry, output\n",
    "        return load_rollout_jax(step_wrapper_mujoco)\n",
    "    \n",
    "    def reset_planner(self):\n",
    "        self.trajectory = np.zeros((self.horizon, self.act_dim))\n",
    "        self.trajectory += self.sampling_init\n",
    "            \n",
    "    def generate_noise(self, size):\n",
    "        return self.random_generator.normal(size=size) * self.noise_sigma\n",
    "    \n",
    "    def sample_delta_u(self):\n",
    "        if self.sample_type == 'normal':\n",
    "            size = (self.n_samples, self.horizon, self.act_dim)\n",
    "            return self.generate_noise(size)\n",
    "        elif self.sample_type == 'cubic':\n",
    "            indices = np.arange(self.n_knots)*self.horizon//self.n_knots\n",
    "            size = (self.n_samples, self.n_knots, self.act_dim)\n",
    "            knot_points = self.generate_noise(size)\n",
    "            cubic_spline = CubicSpline(indices, knot_points, axis=1)\n",
    "            return cubic_spline(np.arange(self.horizon))\n",
    "        \n",
    "    def perturb_action(self):\n",
    "        if self.sample_type == 'normal':\n",
    "            size = (self.n_samples, self.horizon, self.act_dim)\n",
    "            actions = self.trajectory + self.generate_noise(size)\n",
    "            actions = np.clip(actions, self.act_min, self.act_max)\n",
    "            return actions\n",
    "        \n",
    "        elif self.sample_type == 'cubic':\n",
    "            indices_float = jnp.linspace(0, self.horizon - 1, num=self.n_knots)\n",
    "            indices = jnp.round(indices_float).astype(int)\n",
    "            size = (self.n_samples, self.n_knots, self.act_dim)\n",
    "            knot_points = self.trajectory[indices] + self.generate_noise(size)\n",
    "            cubic_spline = CubicSpline(indices, knot_points, axis=1)\n",
    "            actions = cubic_spline(np.arange(self.horizon))\n",
    "            actions = np.clip(actions, self.act_min, self.act_max)\n",
    "            return actions\n",
    "        \n",
    "    def update(self, obs): \n",
    "        self.mjx_data = self.mjx_data.replace(qpos=obs[:19], qvel=obs[19:])\n",
    "        actions = jnp.array(self.perturb_action())\n",
    "        #self.rollout_func(self.state_rollouts, actions, np.repeat([np.concatenate([[0],obs])], self.n_samples, axis=0), num_workers=self.num_workers, nstep=self.horizon)\n",
    "        _, costs = self.rollout_func(self.mjx_data, actions)\n",
    "        costs_sum = costs.sum(axis=1)\n",
    "        #print(costs_sum)\n",
    "        costs_sum = jnp.where(jnp.isnan(costs_sum), 10000000, costs_sum)\n",
    "        print(costs_sum)\n",
    "        # MPPI weights calculation\n",
    "        ## Scale parameters\n",
    "        min_cost = np.min(costs_sum)\n",
    "        max_cost = np.max(costs_sum)\n",
    "        \n",
    "        exp_weights = jnp.exp(-1/self.temperature * ((costs_sum - min_cost)/(max_cost - min_cost)))\n",
    "        #print(exp_weights)\n",
    "        weighted_delta_u = exp_weights.reshape(self.n_samples, 1, 1) * actions\n",
    "        weighted_delta_u = jnp.sum(weighted_delta_u, axis=0) / (jnp.sum(exp_weights) + 1e-10)\n",
    "        updated_actions = jnp.clip(weighted_delta_u, self.act_min, self.act_max)\n",
    "    \n",
    "        # Pop out first action from the trajectory and repeat last action\n",
    "        self.trajectory = jnp.roll(updated_actions, shift=-1, axis=0)\n",
    "        #self.trajectory[-1] = updated_actions[-1]\n",
    "        self.trajectory = self.trajectory.at[-1].set(updated_actions[-1])\n",
    "\n",
    "        # Output first action (MPC)\n",
    "        action = updated_actions[0] \n",
    "        return action\n",
    "    \n",
    "    def quaternion_distance(self, q1, q2):\n",
    "        return 1 - jnp.abs(jnp.dot(q1,q2))\n",
    "    \n",
    "    def quadruped_cost(self, x, u):\n",
    "        kp = 40\n",
    "        kd = 3\n",
    "        # Compute the error terms\n",
    "        x_error = x - self.x_ref\n",
    "        # Assuming quaternion_distance is a function you've defined elsewhere\n",
    "        x_error = x_error.at[3:7].set(self.quaternion_distance(x[3:7], self.x_ref[3:7]))\n",
    "        u_error = kp*(u - x[7:19]) - kd*x[25:]\n",
    "\n",
    "        # Compute the cost\n",
    "        cost = jnp.dot(x_error, jnp.dot(self.Q, x_error)) + jnp.dot(u_error, jnp.dot(self.R, u_error))\n",
    "        return cost"
   ]
  },
  {
   "cell_type": "code",
   "execution_count": 8,
   "id": "7d8f18c6",
   "metadata": {},
   "outputs": [
    {
     "name": "stdout",
     "output_type": "stream",
     "text": [
      "[5755.0044 5612.051  5729.599  5635.6353 5629.41   5794.2524 5666.199\n",
      " 5463.289  5457.498  5324.941  5482.0264 5707.7344 5788.5176 5702.5234\n",
      " 5535.9243 5469.3076 5528.4365 5650.5728 5709.2734 5655.968  5716.8506\n",
      " 5806.6113 5499.584  5775.3623 5394.427  5604.5566 5386.8857 5561.8193\n",
      " 5538.831  5849.9697 5639.3154 5299.9834 5730.534  5379.0425 5723.2266\n",
      " 5509.3506 5678.961  5836.605  5597.151  5601.8955 5681.7856 5793.5635\n",
      " 5642.7627 5563.2314 5547.4863 5436.945  5409.2188 5503.5474 5138.695\n",
      " 5529.458  5442.4814 5604.9688 5716.3877 5521.6943 5823.8203 5850.446\n",
      " 5569.4307 5456.9355 5682.017  5414.083  5727.106  5730.038  5514.164\n",
      " 5741.2573 5685.5283 5784.166  5639.781  5512.339  5664.751  5722.5444\n",
      " 5786.751  5399.8926 5799.9023 5690.748  5530.708  5754.835  5713.2354\n",
      " 5486.162  5648.7754 5643.619  5559.2144 5276.6416 5776.8535 5550.7837\n",
      " 5709.927  5490.3574 5704.3823 5726.0864 5826.467  5483.064  5814.756\n",
      " 5614.274  5659.934  5684.5234 5365.405  5531.5654 5728.169  5713.175\n",
      " 5683.9297 5366.475 ]\n"
     ]
    },
    {
     "ename": "OverflowError",
     "evalue": "An overflow was encountered while parsing an argument to a jitted computation, whose argument path is x.",
     "output_type": "error",
     "traceback": [
      "\u001b[0;31m---------------------------------------------------------------------------\u001b[0m",
      "\u001b[0;31mKeyError\u001b[0m                                  Traceback (most recent call last)",
      "File \u001b[0;32m~/anaconda3/envs/mjx/lib/python3.9/site-packages/jax/_src/api_util.py:584\u001b[0m, in \u001b[0;36mshaped_abstractify\u001b[0;34m(x)\u001b[0m\n\u001b[1;32m    583\u001b[0m \u001b[38;5;28;01mtry\u001b[39;00m:\n\u001b[0;32m--> 584\u001b[0m   \u001b[38;5;28;01mreturn\u001b[39;00m \u001b[43m_shaped_abstractify_handlers\u001b[49m\u001b[43m[\u001b[49m\u001b[38;5;28;43mtype\u001b[39;49m\u001b[43m(\u001b[49m\u001b[43mx\u001b[49m\u001b[43m)\u001b[49m\u001b[43m]\u001b[49m(x)\n\u001b[1;32m    585\u001b[0m \u001b[38;5;28;01mexcept\u001b[39;00m \u001b[38;5;167;01mKeyError\u001b[39;00m:\n",
      "\u001b[0;31mKeyError\u001b[0m: <class 'int'>",
      "\nDuring handling of the above exception, another exception occurred:\n",
      "\u001b[0;31mOverflowError\u001b[0m                             Traceback (most recent call last)",
      "    \u001b[0;31m[... skipping hidden 1 frame]\u001b[0m\n",
      "File \u001b[0;32m~/anaconda3/envs/mjx/lib/python3.9/site-packages/jax/_src/api_util.py:586\u001b[0m, in \u001b[0;36mshaped_abstractify\u001b[0;34m(x)\u001b[0m\n\u001b[1;32m    585\u001b[0m \u001b[38;5;28;01mexcept\u001b[39;00m \u001b[38;5;167;01mKeyError\u001b[39;00m:\n\u001b[0;32m--> 586\u001b[0m   \u001b[38;5;28;01mreturn\u001b[39;00m \u001b[43m_shaped_abstractify_slow\u001b[49m\u001b[43m(\u001b[49m\u001b[43mx\u001b[49m\u001b[43m)\u001b[49m\n",
      "File \u001b[0;32m~/anaconda3/envs/mjx/lib/python3.9/site-packages/jax/_src/api_util.py:566\u001b[0m, in \u001b[0;36m_shaped_abstractify_slow\u001b[0;34m(x)\u001b[0m\n\u001b[1;32m    564\u001b[0m \u001b[38;5;28;01mtry\u001b[39;00m:\n\u001b[1;32m    565\u001b[0m   \u001b[38;5;28;01mreturn\u001b[39;00m core\u001b[38;5;241m.\u001b[39mraise_to_shaped(\n\u001b[0;32m--> 566\u001b[0m     x \u001b[38;5;28;01mif\u001b[39;00m \u001b[38;5;28misinstance\u001b[39m(x, core\u001b[38;5;241m.\u001b[39mAbstractValue) \u001b[38;5;28;01melse\u001b[39;00m \u001b[43mcore\u001b[49m\u001b[38;5;241;43m.\u001b[39;49m\u001b[43mget_aval\u001b[49m\u001b[43m(\u001b[49m\u001b[43mx\u001b[49m\u001b[43m)\u001b[49m)\n\u001b[1;32m    567\u001b[0m \u001b[38;5;28;01mexcept\u001b[39;00m \u001b[38;5;167;01mTypeError\u001b[39;00m:\n",
      "File \u001b[0;32m~/anaconda3/envs/mjx/lib/python3.9/site-packages/jax/_src/core.py:1480\u001b[0m, in \u001b[0;36mget_aval\u001b[0;34m(x)\u001b[0m\n\u001b[1;32m   1479\u001b[0m \u001b[38;5;28;01melse\u001b[39;00m:\n\u001b[0;32m-> 1480\u001b[0m   \u001b[38;5;28;01mreturn\u001b[39;00m \u001b[43mconcrete_aval\u001b[49m\u001b[43m(\u001b[49m\u001b[43mx\u001b[49m\u001b[43m)\u001b[49m\n",
      "File \u001b[0;32m~/anaconda3/envs/mjx/lib/python3.9/site-packages/jax/_src/core.py:1469\u001b[0m, in \u001b[0;36mconcrete_aval\u001b[0;34m(x)\u001b[0m\n\u001b[1;32m   1468\u001b[0m   handler \u001b[38;5;241m=\u001b[39m pytype_aval_mappings\u001b[38;5;241m.\u001b[39mget(typ)\n\u001b[0;32m-> 1469\u001b[0m   \u001b[38;5;28;01mif\u001b[39;00m handler: \u001b[38;5;28;01mreturn\u001b[39;00m \u001b[43mhandler\u001b[49m\u001b[43m(\u001b[49m\u001b[43mx\u001b[49m\u001b[43m)\u001b[49m\n\u001b[1;32m   1470\u001b[0m \u001b[38;5;28;01mif\u001b[39;00m \u001b[38;5;28mhasattr\u001b[39m(x, \u001b[38;5;124m'\u001b[39m\u001b[38;5;124m__jax_array__\u001b[39m\u001b[38;5;124m'\u001b[39m):\n",
      "File \u001b[0;32m~/anaconda3/envs/mjx/lib/python3.9/site-packages/jax/_src/abstract_arrays.py:66\u001b[0m, in \u001b[0;36m_make_concrete_python_scalar\u001b[0;34m(t, x)\u001b[0m\n\u001b[1;32m     65\u001b[0m \u001b[38;5;28;01mdef\u001b[39;00m \u001b[38;5;21m_make_concrete_python_scalar\u001b[39m(t, x):\n\u001b[0;32m---> 66\u001b[0m   dtype \u001b[38;5;241m=\u001b[39m \u001b[43mdtypes\u001b[49m\u001b[38;5;241;43m.\u001b[39;49m\u001b[43m_scalar_type_to_dtype\u001b[49m\u001b[43m(\u001b[49m\u001b[43mt\u001b[49m\u001b[43m,\u001b[49m\u001b[43m \u001b[49m\u001b[43mx\u001b[49m\u001b[43m)\u001b[49m\n\u001b[1;32m     67\u001b[0m   weak_type \u001b[38;5;241m=\u001b[39m dtypes\u001b[38;5;241m.\u001b[39mis_weakly_typed(x)\n",
      "File \u001b[0;32m~/anaconda3/envs/mjx/lib/python3.9/site-packages/jax/_src/dtypes.py:298\u001b[0m, in \u001b[0;36m_scalar_type_to_dtype\u001b[0;34m(typ, value)\u001b[0m\n\u001b[1;32m    297\u001b[0m   \u001b[38;5;28;01mif\u001b[39;00m value \u001b[38;5;241m<\u001b[39m np\u001b[38;5;241m.\u001b[39miinfo(dtype)\u001b[38;5;241m.\u001b[39mmin \u001b[38;5;129;01mor\u001b[39;00m value \u001b[38;5;241m>\u001b[39m np\u001b[38;5;241m.\u001b[39miinfo(dtype)\u001b[38;5;241m.\u001b[39mmax:\n\u001b[0;32m--> 298\u001b[0m     \u001b[38;5;28;01mraise\u001b[39;00m \u001b[38;5;167;01mOverflowError\u001b[39;00m(\u001b[38;5;124mf\u001b[39m\u001b[38;5;124m\"\u001b[39m\u001b[38;5;124mPython int \u001b[39m\u001b[38;5;132;01m{\u001b[39;00mvalue\u001b[38;5;132;01m}\u001b[39;00m\u001b[38;5;124m too large to convert to \u001b[39m\u001b[38;5;132;01m{\u001b[39;00mdtype\u001b[38;5;132;01m}\u001b[39;00m\u001b[38;5;124m\"\u001b[39m)\n\u001b[1;32m    299\u001b[0m \u001b[38;5;28;01mreturn\u001b[39;00m dtype\n",
      "\u001b[0;31mOverflowError\u001b[0m: Python int 10000000000 too large to convert to int32",
      "\nThe above exception was the direct cause of the following exception:\n",
      "\u001b[0;31mOverflowError\u001b[0m                             Traceback (most recent call last)",
      "Cell \u001b[0;32mIn[8], line 1\u001b[0m\n\u001b[0;32m----> 1\u001b[0m mppi \u001b[38;5;241m=\u001b[39m \u001b[43mMPPI_JAX\u001b[49m\u001b[43m(\u001b[49m\u001b[43m)\u001b[49m\n",
      "Cell \u001b[0;32mIn[7], line 49\u001b[0m, in \u001b[0;36mMPPI_JAX.__init__\u001b[0;34m(self, model_path, config_path)\u001b[0m\n\u001b[1;32m     47\u001b[0m \u001b[38;5;28mself\u001b[39m\u001b[38;5;241m.\u001b[39mtrajectory \u001b[38;5;241m=\u001b[39m \u001b[38;5;28;01mNone\u001b[39;00m\n\u001b[1;32m     48\u001b[0m \u001b[38;5;28mself\u001b[39m\u001b[38;5;241m.\u001b[39mreset_planner() \n\u001b[0;32m---> 49\u001b[0m \u001b[38;5;28;43mself\u001b[39;49m\u001b[38;5;241;43m.\u001b[39;49m\u001b[43mupdate\u001b[49m\u001b[43m(\u001b[49m\u001b[38;5;28;43mself\u001b[39;49m\u001b[38;5;241;43m.\u001b[39;49m\u001b[43mx_ref\u001b[49m\u001b[43m)\u001b[49m\n\u001b[1;32m     50\u001b[0m \u001b[38;5;28mself\u001b[39m\u001b[38;5;241m.\u001b[39mreset_planner()\n",
      "Cell \u001b[0;32mIn[7], line 108\u001b[0m, in \u001b[0;36mMPPI_JAX.update\u001b[0;34m(self, obs)\u001b[0m\n\u001b[1;32m    106\u001b[0m costs_sum \u001b[38;5;241m=\u001b[39m costs\u001b[38;5;241m.\u001b[39msum(axis\u001b[38;5;241m=\u001b[39m\u001b[38;5;241m1\u001b[39m)\n\u001b[1;32m    107\u001b[0m \u001b[38;5;28mprint\u001b[39m(costs_sum)\n\u001b[0;32m--> 108\u001b[0m costs_sum \u001b[38;5;241m=\u001b[39m \u001b[43mjnp\u001b[49m\u001b[38;5;241;43m.\u001b[39;49m\u001b[43mwhere\u001b[49m\u001b[43m(\u001b[49m\u001b[43mjnp\u001b[49m\u001b[38;5;241;43m.\u001b[39;49m\u001b[43misnan\u001b[49m\u001b[43m(\u001b[49m\u001b[43mcosts_sum\u001b[49m\u001b[43m)\u001b[49m\u001b[43m,\u001b[49m\u001b[43m \u001b[49m\u001b[38;5;241;43m10000000000\u001b[39;49m\u001b[43m,\u001b[49m\u001b[43m \u001b[49m\u001b[43mcosts_sum\u001b[49m\u001b[43m)\u001b[49m\n\u001b[1;32m    109\u001b[0m \u001b[38;5;28mprint\u001b[39m(costs_sum)\n\u001b[1;32m    110\u001b[0m \u001b[38;5;66;03m# MPPI weights calculation\u001b[39;00m\n\u001b[1;32m    111\u001b[0m \u001b[38;5;66;03m## Scale parameters\u001b[39;00m\n",
      "File \u001b[0;32m~/anaconda3/envs/mjx/lib/python3.9/site-packages/jax/_src/numpy/lax_numpy.py:1141\u001b[0m, in \u001b[0;36mwhere\u001b[0;34m(acondition, if_true, if_false, size, fill_value, condition, x, y)\u001b[0m\n\u001b[1;32m   1139\u001b[0m \u001b[38;5;28;01mif\u001b[39;00m size \u001b[38;5;129;01mis\u001b[39;00m \u001b[38;5;129;01mnot\u001b[39;00m \u001b[38;5;28;01mNone\u001b[39;00m \u001b[38;5;129;01mor\u001b[39;00m fill_value \u001b[38;5;129;01mis\u001b[39;00m \u001b[38;5;129;01mnot\u001b[39;00m \u001b[38;5;28;01mNone\u001b[39;00m:\n\u001b[1;32m   1140\u001b[0m   \u001b[38;5;28;01mraise\u001b[39;00m \u001b[38;5;167;01mValueError\u001b[39;00m(\u001b[38;5;124m\"\u001b[39m\u001b[38;5;124msize and fill_value arguments cannot be used in three-term where function.\u001b[39m\u001b[38;5;124m\"\u001b[39m)\n\u001b[0;32m-> 1141\u001b[0m \u001b[38;5;28;01mreturn\u001b[39;00m \u001b[43mutil\u001b[49m\u001b[38;5;241;43m.\u001b[39;49m\u001b[43m_where\u001b[49m\u001b[43m(\u001b[49m\u001b[43macondition\u001b[49m\u001b[43m,\u001b[49m\u001b[43m \u001b[49m\u001b[43mif_true\u001b[49m\u001b[43m,\u001b[49m\u001b[43m \u001b[49m\u001b[43mif_false\u001b[49m\u001b[43m)\u001b[49m\n",
      "    \u001b[0;31m[... skipping hidden 4 frame]\u001b[0m\n",
      "File \u001b[0;32m~/anaconda3/envs/mjx/lib/python3.9/site-packages/jax/_src/pjit.py:485\u001b[0m, in \u001b[0;36mcommon_infer_params\u001b[0;34m(***failed resolving arguments***)\u001b[0m\n\u001b[1;32m    482\u001b[0m     \u001b[38;5;28;01mexcept\u001b[39;00m \u001b[38;5;167;01mOverflowError\u001b[39;00m \u001b[38;5;28;01mas\u001b[39;00m e:\n\u001b[1;32m    483\u001b[0m       arg_path \u001b[38;5;241m=\u001b[39m (\u001b[38;5;124mf\u001b[39m\u001b[38;5;124m\"\u001b[39m\u001b[38;5;124margument path is \u001b[39m\u001b[38;5;132;01m{\u001b[39;00mdbg\u001b[38;5;241m.\u001b[39marg_names[i]\u001b[38;5;132;01m}\u001b[39;00m\u001b[38;5;124m\"\u001b[39m \u001b[38;5;28;01mif\u001b[39;00m dbg\n\u001b[1;32m    484\u001b[0m                   \u001b[38;5;28;01melse\u001b[39;00m \u001b[38;5;124mf\u001b[39m\u001b[38;5;124m\"\u001b[39m\u001b[38;5;124mflattened argument number is \u001b[39m\u001b[38;5;132;01m{\u001b[39;00mi\u001b[38;5;132;01m}\u001b[39;00m\u001b[38;5;124m\"\u001b[39m)\n\u001b[0;32m--> 485\u001b[0m       \u001b[38;5;28;01mraise\u001b[39;00m \u001b[38;5;167;01mOverflowError\u001b[39;00m(\n\u001b[1;32m    486\u001b[0m         \u001b[38;5;124m\"\u001b[39m\u001b[38;5;124mAn overflow was encountered while parsing an argument to a jitted \u001b[39m\u001b[38;5;124m\"\u001b[39m\n\u001b[1;32m    487\u001b[0m         \u001b[38;5;124mf\u001b[39m\u001b[38;5;124m\"\u001b[39m\u001b[38;5;124mcomputation, whose \u001b[39m\u001b[38;5;132;01m{\u001b[39;00marg_path\u001b[38;5;132;01m}\u001b[39;00m\u001b[38;5;124m.\u001b[39m\u001b[38;5;124m\"\u001b[39m\n\u001b[1;32m    488\u001b[0m       ) \u001b[38;5;28;01mfrom\u001b[39;00m \u001b[38;5;21;01me\u001b[39;00m\n\u001b[1;32m    489\u001b[0m   in_type \u001b[38;5;241m=\u001b[39m in_avals \u001b[38;5;241m=\u001b[39m \u001b[38;5;28mtuple\u001b[39m(avals)\n\u001b[1;32m    491\u001b[0m canonicalized_in_shardings_flat, in_layouts_flat \u001b[38;5;241m=\u001b[39m _process_in_axis_resources(\n\u001b[1;32m    492\u001b[0m     hashable_pytree(in_shardings), hashable_pytree(in_layouts), in_avals,\n\u001b[1;32m    493\u001b[0m     in_tree, resource_env, dbg, device_or_backend_set, \u001b[38;5;28;01mTrue\u001b[39;00m \u001b[38;5;28;01mif\u001b[39;00m kwargs \u001b[38;5;28;01melse\u001b[39;00m \u001b[38;5;28;01mFalse\u001b[39;00m)\n",
      "\u001b[0;31mOverflowError\u001b[0m: An overflow was encountered while parsing an argument to a jitted computation, whose argument path is x."
     ]
    }
   ],
   "source": [
    "mppi = MPPI_JAX()"
   ]
  },
  {
   "cell_type": "code",
   "execution_count": null,
   "id": "6b2b2d13",
   "metadata": {},
   "outputs": [],
   "source": [
    "actions = mppi.perturb_action()"
   ]
  },
  {
   "cell_type": "code",
   "execution_count": null,
   "id": "3180aacf",
   "metadata": {},
   "outputs": [],
   "source": [
    "actions.shape"
   ]
  },
  {
   "cell_type": "code",
   "execution_count": null,
   "id": "53780ee1",
   "metadata": {},
   "outputs": [],
   "source": [
    "%%timeit\n",
    "mppi.update(mppi.x_ref)"
   ]
  },
  {
   "cell_type": "code",
   "execution_count": null,
   "id": "ac54bb04",
   "metadata": {},
   "outputs": [],
   "source": [
    "obs = mppi.x_ref"
   ]
  },
  {
   "cell_type": "code",
   "execution_count": null,
   "id": "8037737e",
   "metadata": {},
   "outputs": [],
   "source": [
    "actions[0,0].shape"
   ]
  },
  {
   "cell_type": "code",
   "execution_count": null,
   "id": "5dcb5f7a",
   "metadata": {},
   "outputs": [],
   "source": [
    "mppi.mjx_data = mppi.mjx_data.replace(qpos=obs[:19], qvel=obs[19:], ctrl=actions[0,0])"
   ]
  },
  {
   "cell_type": "code",
   "execution_count": null,
   "id": "f1735cb2",
   "metadata": {},
   "outputs": [],
   "source": [
    "mppi.mjx_data.qvel"
   ]
  },
  {
   "cell_type": "code",
   "execution_count": null,
   "id": "f31de8e6",
   "metadata": {},
   "outputs": [],
   "source": [
    "mppi.mjx_data.qvel"
   ]
  },
  {
   "cell_type": "code",
   "execution_count": null,
   "id": "0a984d28",
   "metadata": {},
   "outputs": [],
   "source": [
    "costs = mppi.update(mppi.x_ref)"
   ]
  },
  {
   "cell_type": "code",
   "execution_count": null,
   "id": "0360c810",
   "metadata": {},
   "outputs": [],
   "source": [
    "costs"
   ]
  },
  {
   "cell_type": "code",
   "execution_count": null,
   "id": "612545f9",
   "metadata": {},
   "outputs": [],
   "source": [
    "mppi.mjx_data.qpos.shape"
   ]
  },
  {
   "cell_type": "code",
   "execution_count": null,
   "id": "9679645b",
   "metadata": {},
   "outputs": [],
   "source": [
    "mppi.mjx_data.qvel.shape"
   ]
  },
  {
   "cell_type": "code",
   "execution_count": null,
   "id": "58020b41",
   "metadata": {},
   "outputs": [],
   "source": [
    "mppi.x_ref"
   ]
  },
  {
   "cell_type": "code",
   "execution_count": null,
   "id": "4bffcde7",
   "metadata": {},
   "outputs": [],
   "source": [
    "mppi.mjx_data.qpos"
   ]
  },
  {
   "cell_type": "code",
   "execution_count": null,
   "id": "8ff4086e",
   "metadata": {},
   "outputs": [],
   "source": [
    "from matplotlib.animation import FuncAnimation\n",
    "from IPython.display import HTML\n",
    "import mujoco_viewer"
   ]
  },
  {
   "cell_type": "code",
   "execution_count": null,
   "id": "d2ccd518",
   "metadata": {},
   "outputs": [],
   "source": [
    "import matplotlib.pyplot as plt"
   ]
  },
  {
   "cell_type": "code",
   "execution_count": null,
   "id": "22a34a2e",
   "metadata": {},
   "outputs": [],
   "source": [
    "import copy as cp"
   ]
  },
  {
   "cell_type": "code",
   "execution_count": null,
   "id": "906f3167",
   "metadata": {},
   "outputs": [],
   "source": [
    "mujoco.mjtSolver.mjSOL_CG"
   ]
  },
  {
   "cell_type": "code",
   "execution_count": null,
   "id": "bc1a9c67",
   "metadata": {},
   "outputs": [],
   "source": [
    "#model_sim = mujoco.MjModel.from_xml_path(\"../models/go1/go1_scene_jax_no_collision.xml\")\n",
    "model_sim = mujoco.MjModel.from_xml_path(\"../models/go1/scene_opt_pd.xml\")"
   ]
  },
  {
   "cell_type": "code",
   "execution_count": null,
   "id": "37a1c955",
   "metadata": {},
   "outputs": [],
   "source": [
    "model_sim.opt.solver"
   ]
  },
  {
   "cell_type": "code",
   "execution_count": null,
   "id": "14183eac",
   "metadata": {},
   "outputs": [],
   "source": [
    "model_sim.opt.iterations"
   ]
  },
  {
   "cell_type": "code",
   "execution_count": null,
   "id": "c5d37e06",
   "metadata": {},
   "outputs": [],
   "source": [
    "model_sim.opt.ls_iterations"
   ]
  },
  {
   "cell_type": "code",
   "execution_count": null,
   "id": "32921b3a",
   "metadata": {},
   "outputs": [],
   "source": [
    "dt_sim = 0.01\n",
    "model_sim.opt.timestep = dt_sim\n",
    "\n",
    "data_sim = mujoco.MjData(model_sim)"
   ]
  },
  {
   "cell_type": "code",
   "execution_count": null,
   "id": "e2ee8785",
   "metadata": {},
   "outputs": [],
   "source": [
    "viewer = mujoco_viewer.MujocoViewer(model_sim, data_sim, 'offscreen')"
   ]
  },
  {
   "cell_type": "code",
   "execution_count": null,
   "id": "80b39a75",
   "metadata": {},
   "outputs": [],
   "source": [
    "# reset robot (keyframes are defined in the xml)\n",
    "mujoco.mj_resetDataKeyframe(model_sim, data_sim, 1) # stand position\n",
    "mujoco.mj_forward(model_sim, data_sim)\n",
    "q_init = cp.deepcopy(data_sim.qpos) # save reference pose\n",
    "v_init = cp.deepcopy(data_sim.qvel) # save reference pose"
   ]
  },
  {
   "cell_type": "code",
   "execution_count": null,
   "id": "54e3ee58",
   "metadata": {},
   "outputs": [],
   "source": [
    "print(\"Configuration: {}\".format(q_init)) # save reference pose"
   ]
  },
  {
   "cell_type": "code",
   "execution_count": null,
   "id": "25ddab16",
   "metadata": {},
   "outputs": [],
   "source": [
    "img = viewer.read_pixels()\n",
    "plt.imshow(img)"
   ]
  },
  {
   "cell_type": "code",
   "execution_count": null,
   "id": "42afc81b",
   "metadata": {},
   "outputs": [],
   "source": [
    "# reset robot (keyframes are defined in the xml)\n",
    "mujoco.mj_resetDataKeyframe(model_sim, data_sim, 0) # stand position\n",
    "mujoco.mj_forward(model_sim, data_sim)\n",
    "q_ref_mj = cp.deepcopy(data_sim.qpos) # save reference pose\n",
    "v_ref_mj = cp.deepcopy(data_sim.qvel) # save reference pose"
   ]
  },
  {
   "cell_type": "code",
   "execution_count": null,
   "id": "c90d8011",
   "metadata": {},
   "outputs": [],
   "source": [
    "print(\"Configuration: {}\".format(q_ref_mj)) # save reference pose"
   ]
  },
  {
   "cell_type": "code",
   "execution_count": null,
   "id": "9f66fa16",
   "metadata": {},
   "outputs": [],
   "source": [
    "img = viewer.read_pixels()\n",
    "plt.imshow(img)"
   ]
  },
  {
   "cell_type": "code",
   "execution_count": null,
   "id": "63ebe339",
   "metadata": {},
   "outputs": [],
   "source": [
    "q_curr = cp.deepcopy(data_sim.qpos) # save reference pose\n",
    "v_curr = cp.deepcopy(data_sim.qvel) # save reference pose\n",
    "x = jnp.concatenate([q_curr, v_curr])"
   ]
  },
  {
   "cell_type": "code",
   "execution_count": null,
   "id": "41fa4535",
   "metadata": {},
   "outputs": [],
   "source": [
    "tfinal = 5\n",
    "tvec = jnp.linspace(0,tfinal,int(jnp.ceil(tfinal/dt_sim))+1)"
   ]
  },
  {
   "cell_type": "code",
   "execution_count": null,
   "id": "3f0ac995",
   "metadata": {},
   "outputs": [],
   "source": [
    "mujoco.mj_resetDataKeyframe(model_sim, data_sim, 1)\n",
    "mujoco.mj_forward(model_sim, data_sim)"
   ]
  },
  {
   "cell_type": "code",
   "execution_count": null,
   "id": "ea8d496c",
   "metadata": {},
   "outputs": [],
   "source": [
    "img = viewer.read_pixels()\n",
    "plt.imshow(img)"
   ]
  },
  {
   "cell_type": "code",
   "execution_count": null,
   "id": "ef0174e7",
   "metadata": {},
   "outputs": [],
   "source": [
    "mppi.reset_planner()"
   ]
  },
  {
   "cell_type": "code",
   "execution_count": null,
   "id": "56dfc063",
   "metadata": {},
   "outputs": [],
   "source": [
    "mppi.trajectory"
   ]
  },
  {
   "cell_type": "code",
   "execution_count": null,
   "id": "48b927d7",
   "metadata": {},
   "outputs": [],
   "source": []
  },
  {
   "cell_type": "code",
   "execution_count": null,
   "id": "a4715fa5",
   "metadata": {},
   "outputs": [],
   "source": [
    "%%time\n",
    "anim_imgs = []\n",
    "sim_inputs = []\n",
    "for ticks, ti in enumerate(tvec):\n",
    "    #if ticks % 1 == 0:\n",
    "    q_curr = cp.deepcopy(data_sim.qpos) # save reference pose\n",
    "    v_curr = cp.deepcopy(data_sim.qvel) # save reference pose\n",
    "    x = jnp.concatenate([q_curr, v_curr])\n",
    "    u_joints = mppi.update(x)    \n",
    "    data_sim.ctrl[:] = u_joints\n",
    "    mujoco.mj_step(model_sim, data_sim)\n",
    "    mujoco.mj_forward(model_sim, data_sim)\n",
    "    img = viewer.read_pixels()\n",
    "    anim_imgs.append(img)\n",
    "    sim_inputs.append(u_joints)"
   ]
  },
  {
   "cell_type": "code",
   "execution_count": null,
   "id": "d88e51ec",
   "metadata": {},
   "outputs": [],
   "source": [
    "fig, ax = plt.subplots()\n",
    "skip_frames = 10\n",
    "interval = dt_sim*1000*skip_frames\n",
    "\n",
    "def animate(i):\n",
    "    ax.clear()\n",
    "    ax.imshow(anim_imgs[i * skip_frames])  # Display the image, skipping frames\n",
    "    ax.axis('off')\n",
    "\n",
    "# Create animation, considering the reduced frame rate due to skipped frames\n",
    "ani = FuncAnimation(fig, animate, frames=len(anim_imgs) // skip_frames, interval=interval)  # 50 ms for 20 Hz\n",
    "\n",
    "# Display the animation\n",
    "HTML(ani.to_jshtml())"
   ]
  },
  {
   "cell_type": "code",
   "execution_count": null,
   "id": "cbc0d4e2",
   "metadata": {},
   "outputs": [],
   "source": [
    "#mppi.reset_planner()"
   ]
  },
  {
   "cell_type": "code",
   "execution_count": null,
   "id": "3323a858",
   "metadata": {},
   "outputs": [],
   "source": [
    "actions = jnp.array(mppi.perturb_action())"
   ]
  },
  {
   "cell_type": "code",
   "execution_count": null,
   "id": "7755c90a",
   "metadata": {},
   "outputs": [],
   "source": [
    "_, costs = mppi.rollout_func(mppi.mjx_data, actions) "
   ]
  },
  {
   "cell_type": "code",
   "execution_count": null,
   "id": "7bf58620",
   "metadata": {},
   "outputs": [],
   "source": [
    "costs"
   ]
  },
  {
   "cell_type": "code",
   "execution_count": null,
   "id": "52367c3e",
   "metadata": {},
   "outputs": [],
   "source": []
  }
 ],
 "metadata": {
  "kernelspec": {
   "display_name": "mjx",
   "language": "python",
   "name": "mjx"
  },
  "language_info": {
   "codemirror_mode": {
    "name": "ipython",
    "version": 3
   },
   "file_extension": ".py",
   "mimetype": "text/x-python",
   "name": "python",
   "nbconvert_exporter": "python",
   "pygments_lexer": "ipython3",
   "version": "3.9.19"
  }
 },
 "nbformat": 4,
 "nbformat_minor": 5
}
