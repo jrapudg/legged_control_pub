{
 "cells": [
  {
   "cell_type": "code",
   "execution_count": null,
   "id": "8b104bde",
   "metadata": {},
   "outputs": [],
   "source": [
    "import numpy as np\n",
    "from scipy.interpolate import CubicSpline\n",
    "import matplotlib.pyplot as plt\n",
    "from functools import partial\n",
    "import jax\n",
    "import jax.numpy as jnp"
   ]
  },
  {
   "cell_type": "code",
   "execution_count": null,
   "id": "70d62b34",
   "metadata": {},
   "outputs": [],
   "source": [
    "import mujoco\n",
    "import mujoco_viewer\n",
    "from matplotlib.animation import FuncAnimation\n",
    "from IPython.display import HTML\n",
    "import copy as cp"
   ]
  },
  {
   "cell_type": "code",
   "execution_count": null,
   "id": "6b6dd92e",
   "metadata": {},
   "outputs": [],
   "source": [
    "# Paden-Kahan"
   ]
  },
  {
   "cell_type": "code",
   "execution_count": null,
   "id": "f1858e4b",
   "metadata": {},
   "outputs": [],
   "source": [
    "def quaternion_to_rotation_matrix(q):\n",
    "    \"\"\"\n",
    "    Convert a quaternion into a rotation matrix\n",
    "    :param q: Quaternion in the form [w, x, y, z]\n",
    "    :return: 3x3 rotation matrix\n",
    "    \"\"\"\n",
    "    w, x, y, z = q\n",
    "    return np.array([\n",
    "        [1 - 2*y**2 - 2*z**2,     2*x*y - 2*z*w,         2*x*z + 2*y*w],\n",
    "        [2*x*y + 2*z*w,           1 - 2*x**2 - 2*z**2,   2*y*z - 2*x*w],\n",
    "        [2*x*z - 2*y*w,           2*y*z + 2*x*w,         1 - 2*x**2 - 2*y**2]\n",
    "    ])\n",
    "\n",
    "def quad_inverse_kinematics(q_in, foot_locs_in):  \n",
    "    q = np.array(q_in).reshape((7,))\n",
    "    foot_locs = np.array(foot_locs_in).reshape((12,))\n",
    "    foot_locs[::3] = foot_locs[::3] * -1\n",
    "    # Convert quaternion to rotation matrix\n",
    "    rot = quaternion_to_rotation_matrix(q[3:])\n",
    "    base_pos = q[:3]\n",
    "\n",
    "    h = 0.08  # Hip offset\n",
    "    l1 = 0.213  # Thigh length\n",
    "    l2 = 0.213  # Calf length\n",
    "\n",
    "    foot_q = np.zeros((12, 2))\n",
    "\n",
    "    hip_local_pos = np.array([[-0.1881, 0.04675, 0],\n",
    "                              [-0.1881, -0.04675, 0],\n",
    "                              [0.1881, 0.04675, 0],\n",
    "                              [0.1881, -0.04675, 0]])\n",
    "    for footInd in range(4):\n",
    "        hip_trans = -hip_local_pos[footInd] - np.matmul(rot.T, base_pos)\n",
    "        footPos = np.matmul(rot.T, foot_locs[3*footInd:3*footInd+3]) + hip_trans\n",
    "        #print(\"footPos:{}\".format(footPos))\n",
    "        if footInd % 2 == 1:\n",
    "            footPos[1] = -footPos[1]\n",
    "\n",
    "        x, y, z = footPos\n",
    "        \n",
    "        #print(footPos)\n",
    "        L_squared = y**2 + z**2 - h**2\n",
    "        #print(\"L_squared:{}\".format(L_squared))\n",
    "        L = np.sqrt(L_squared) if L_squared > 1e-12 else 0\n",
    "        #print(\"L:{}\".format(L))\n",
    "        cos_theta = (h*y - L*z) / (L**2 + h**2)\n",
    "        sin_theta = (L*y + h*z) / (L**2 + h**2)\n",
    "        #print(cos_theta)\n",
    "        #print(sin_theta)\n",
    "        foot_q[3*footInd, 0] = np.arctan2(sin_theta, cos_theta)\n",
    "        #print(foot_q[:,0])\n",
    "        #print(\"------\")\n",
    "        \n",
    "        cos_theta = (h*y + L*z) / (L**2 + h**2)\n",
    "        sin_theta = (-L*y + h*z) / (L**2 + h**2)\n",
    "        foot_q[3*footInd, 1] = np.arctan2(sin_theta, cos_theta)\n",
    "        for j in [0, 1]:\n",
    "\n",
    "            z_rot = np.sin(-foot_q[3*footInd, j]) * y + np.cos(-foot_q[3*footInd, j]) * z\n",
    "            arccos_argument = (l1**2 + l2**2 - (x**2 + z_rot**2)) / (2 * l1**2)\n",
    "            print(\"Argument arcos: \", arccos_argument)\n",
    "            foot_q[3*footInd + 2, j] = np.arccos(arccos_argument) - np.pi\n",
    "            foot_q[3*footInd + 1, j] = -foot_q[3*footInd + 2, j] / 2 - np.arctan2(z_rot, x) - np.pi / 2\n",
    "\n",
    "        if footInd % 2 == 1:\n",
    "            foot_q[3*footInd, :] *= -1\n",
    "    return np.round(foot_q[:,0], 4)"
   ]
  },
  {
   "cell_type": "code",
   "execution_count": null,
   "id": "7e99b1de",
   "metadata": {},
   "outputs": [],
   "source": [
    "%pwd"
   ]
  },
  {
   "cell_type": "code",
   "execution_count": null,
   "id": "87730042",
   "metadata": {},
   "outputs": [],
   "source": [
    "#model_sim = mujoco.MjModel.from_xml_path(\"../models/go1/go1_scene_jax_no_collision.xml\")\n",
    "model_sim = mujoco.MjModel.from_xml_path(\"../models/go1/go1_scene_mppi.xml\")"
   ]
  },
  {
   "cell_type": "code",
   "execution_count": null,
   "id": "438f497a",
   "metadata": {},
   "outputs": [],
   "source": [
    "dt_sim = 0.01\n",
    "model_sim.opt.timestep = dt_sim\n",
    "\n",
    "data_sim = mujoco.MjData(model_sim)"
   ]
  },
  {
   "cell_type": "code",
   "execution_count": null,
   "id": "9949df1e",
   "metadata": {},
   "outputs": [],
   "source": [
    "viewer = mujoco_viewer.MujocoViewer(model_sim, data_sim, 'offscreen')"
   ]
  },
  {
   "cell_type": "code",
   "execution_count": null,
   "id": "b250e8ab",
   "metadata": {},
   "outputs": [],
   "source": [
    "np.arctan2(0, 1)"
   ]
  },
  {
   "cell_type": "code",
   "execution_count": null,
   "id": "db7a39dc",
   "metadata": {},
   "outputs": [],
   "source": [
    "q_in = np.array([0.0, 0.0, 0.27, 1.0, 0.0, 0.0, 0.0]) # Base position and orientation (quaternion)\n",
    "foot_locs_in = np.array([0.1881, 0.12675, 0.0,   # FL\n",
    "                         0.1881, -0.12675, 0.0,  # FR\n",
    "                        -0.1881, 0.12675, 0.0,   # RL\n",
    "                        -0.1881, -0.12675, 0.0   # RR\n",
    "                         ])\n",
    "# foot_locs_in = np.array([0.1881, 0.12675, 0.00519415,   # FL\n",
    "#                          0.1881, -0.12675, 0.00519415,  # FR\n",
    "#                         -0.1881, 0.12675, 0.00519415,   # RL\n",
    "#                         -0.1881, -0.12675, 0.00519415   # RR\n",
    "#                          ])\n",
    "# foot_locs_in = np.array([0.1881, 0.16, 0.00519415,   # FL\n",
    "#                          0.1881, -0.16, 0.00519415,  # FR\n",
    "#                         -0.1881, 0.16, 0.00519415,   # RL\n",
    "#                         -0.1881, -0.16, 0.00519415   # RR\n",
    "#                          ])"
   ]
  },
  {
   "cell_type": "code",
   "execution_count": null,
   "id": "1fe1f016",
   "metadata": {},
   "outputs": [],
   "source": [
    "foot_locs_in"
   ]
  },
  {
   "cell_type": "code",
   "execution_count": null,
   "id": "40e91bde",
   "metadata": {},
   "outputs": [],
   "source": [
    "quad_inverse_kinematics(q_in, foot_locs_in)"
   ]
  },
  {
   "cell_type": "code",
   "execution_count": null,
   "id": "13c2e533",
   "metadata": {},
   "outputs": [],
   "source": [
    "DT = 0.01\n",
    "# OVERLAP_TIME = 0.08 # duration of the phase where the foot is on the ground\n",
    "# SWING_TIME = 0.05 # duration of the phase where the foot is on the ground\n",
    "# SWING_HEIGHT = 0.08\n",
    "OVERLAP_TIME = 0.1 # duration of the phase where the foot is on the ground\n",
    "SWING_TIME = 0.05 # duration of the phase where the foot is on the ground\n",
    "SWING_HEIGHT = 0.25"
   ]
  },
  {
   "cell_type": "code",
   "execution_count": null,
   "id": "179969f5",
   "metadata": {},
   "outputs": [],
   "source": [
    "def swing_ticks():\n",
    "    return int(SWING_TIME / DT)\n",
    "\n",
    "def overlap_ticks():\n",
    "    return int(OVERLAP_TIME / DT)\n",
    "\n",
    "def stance_ticks():\n",
    "    return 2 * overlap_ticks() + swing_ticks()\n",
    "\n",
    "def phase_ticks():\n",
    "    return jnp.array([overlap_ticks(),\n",
    "                      swing_ticks(), \n",
    "                      overlap_ticks(),\n",
    "                      swing_ticks()])\n",
    "\n",
    "def phase_length():\n",
    "    return 2 * swing_ticks() + 2 * overlap_ticks()"
   ]
  },
  {
   "cell_type": "code",
   "execution_count": null,
   "id": "5a1f3b41",
   "metadata": {},
   "outputs": [],
   "source": [
    "phase_length()"
   ]
  },
  {
   "cell_type": "code",
   "execution_count": null,
   "id": "128f7fbe",
   "metadata": {},
   "outputs": [],
   "source": [
    "swing_ticks()"
   ]
  },
  {
   "cell_type": "code",
   "execution_count": null,
   "id": "ce9ce0ea",
   "metadata": {},
   "outputs": [],
   "source": [
    "stance_ticks()"
   ]
  },
  {
   "cell_type": "code",
   "execution_count": null,
   "id": "4bd4b949",
   "metadata": {},
   "outputs": [],
   "source": [
    "def get_swing_foot_z_reference():\n",
    "    if swing_ticks()%2 != 0:\n",
    "        knot_points = np.array([0, SWING_HEIGHT, 0])\n",
    "        time_points = np.array([0, swing_ticks()/2-1, swing_ticks()-1])\n",
    "    else:    \n",
    "        knot_points = np.array([0, SWING_HEIGHT, SWING_HEIGHT, 0])\n",
    "        time_points = np.array([0, np.floor(swing_ticks()/2-1), np.ceil(swing_ticks()/2), swing_ticks()-1])\n",
    "\n",
    "    reference_spline = CubicSpline(time_points, knot_points, axis=1)\n",
    "\n",
    "    x_ref = np.arange(swing_ticks())\n",
    "    y_ref = reference_spline(x_ref)\n",
    "    return y_ref\n",
    "\n",
    "def get_stance_foot_z_reference():\n",
    "    n = stance_ticks()\n",
    "    y_ref = np.zeros(n)\n",
    "    return y_ref"
   ]
  },
  {
   "cell_type": "code",
   "execution_count": null,
   "id": "b374ec74",
   "metadata": {},
   "outputs": [],
   "source": [
    "swing_ref = get_swing_foot_z_reference()"
   ]
  },
  {
   "cell_type": "code",
   "execution_count": null,
   "id": "00790300",
   "metadata": {},
   "outputs": [],
   "source": [
    "plt.plot(swing_ref)"
   ]
  },
  {
   "cell_type": "code",
   "execution_count": null,
   "id": "6a32345e",
   "metadata": {},
   "outputs": [],
   "source": [
    "stance_ref = get_stance_foot_z_reference()\n",
    "stance_ref"
   ]
  },
  {
   "cell_type": "code",
   "execution_count": null,
   "id": "b9097437",
   "metadata": {},
   "outputs": [],
   "source": [
    "gait_z_ref = np.concatenate([stance_ref, swing_ref])"
   ]
  },
  {
   "cell_type": "code",
   "execution_count": null,
   "id": "e5d8a620",
   "metadata": {},
   "outputs": [],
   "source": [
    "plt.plot(gait_z_ref)"
   ]
  },
  {
   "cell_type": "code",
   "execution_count": null,
   "id": "a2a9f7fd",
   "metadata": {},
   "outputs": [],
   "source": [
    "foot_locs_in.shape"
   ]
  },
  {
   "cell_type": "code",
   "execution_count": null,
   "id": "4d615f48",
   "metadata": {},
   "outputs": [],
   "source": [
    "def get_phase_variable(ticks, phase_offset):\n",
    "    phase_time =  jnp.mod(ticks + phase_offset, phase_length()) \n",
    "    cycle_index = (ticks + phase_offset) // phase_length()\n",
    "    \n",
    "    def cond_func(carry):\n",
    "        i, phase_sum, phase_relative_ticks = carry\n",
    "        break_condition = (phase_time < phase_sum)\n",
    "        return ~break_condition & (i < NUM_PHASES)\n",
    "\n",
    "    def body_func(carry):\n",
    "        i, phase_sum, phase_relative_ticks = carry\n",
    "\n",
    "        phase_sum += phase_ticks()[i]\n",
    "        subphase_ticks = phase_time - phase_sum + phase_ticks()[i]\n",
    "        return i + 1, phase_sum, subphase_ticks\n",
    "    \n",
    "    phase_index, _, subphase_time = jax.lax.while_loop(cond_func, body_func, init_val=(0, 0, 0))\n",
    "    phase_index -= 1\n",
    "    return cycle_index, phase_time, subphase_time, phase_index"
   ]
  },
  {
   "cell_type": "code",
   "execution_count": null,
   "id": "ccc725e9",
   "metadata": {},
   "outputs": [],
   "source": [
    "FOOT_FL_OFFSET = overlap_ticks() + swing_ticks()\n",
    "FOOT_FR_OFFSET = 0\n",
    "FOOT_RL_OFFSET = 0\n",
    "FOOT_RR_OFFSET = overlap_ticks() + swing_ticks()"
   ]
  },
  {
   "cell_type": "code",
   "execution_count": null,
   "id": "58bb0157",
   "metadata": {},
   "outputs": [],
   "source": [
    "foot_fl_x_ref = np.zeros(phase_length())\n",
    "foot_fr_x_ref = np.zeros(phase_length())\n",
    "foot_rl_x_ref = np.zeros(phase_length())\n",
    "foot_rr_x_ref = np.zeros(phase_length())\n",
    "\n",
    "foot_fl_y_ref = np.zeros(phase_length())\n",
    "foot_fr_y_ref = np.zeros(phase_length())\n",
    "foot_rl_y_ref = np.zeros(phase_length())\n",
    "foot_rr_y_ref = np.zeros(phase_length())\n",
    "\n",
    "foot_fl_z_ref = np.roll(gait_z_ref, FOOT_FL_OFFSET)\n",
    "foot_fr_z_ref = np.roll(gait_z_ref, FOOT_FR_OFFSET)\n",
    "foot_rl_z_ref = np.roll(gait_z_ref, FOOT_RL_OFFSET)\n",
    "foot_rr_z_ref = np.roll(gait_z_ref, FOOT_RR_OFFSET)"
   ]
  },
  {
   "cell_type": "code",
   "execution_count": null,
   "id": "a64b4ea5",
   "metadata": {},
   "outputs": [],
   "source": [
    "# Creating 4 rows, 1 column of subplots\n",
    "fig, axs = plt.subplots(4, 1, figsize=(10, 12))\n",
    "\n",
    "# Plot each row\n",
    "axs[0].plot(foot_fl_z_ref, 'r-')  # sin(x) in red\n",
    "axs[0].set_title('FL')\n",
    "\n",
    "axs[1].plot(foot_fr_z_ref, 'b-')  # cos(x) in blue\n",
    "axs[1].set_title('FR')\n",
    "\n",
    "axs[2].plot(foot_rl_z_ref, 'g-')  # tan(x) in green\n",
    "axs[2].set_title('RL')\n",
    "\n",
    "axs[3].plot(foot_rr_z_ref, 'm-')  # log(x+1) in magenta\n",
    "axs[3].set_title('RR')\n",
    "\n",
    "# Automatically adjust subplot params for better layout\n",
    "plt.tight_layout()\n",
    "\n",
    "plt.show()"
   ]
  },
  {
   "cell_type": "code",
   "execution_count": null,
   "id": "bd2382a2",
   "metadata": {},
   "outputs": [],
   "source": [
    "gait_xyx_offsets = np.stack((foot_fl_x_ref,\n",
    "                             foot_fl_y_ref,\n",
    "                             foot_fl_z_ref,\n",
    "                             foot_fr_x_ref,\n",
    "                             foot_fr_y_ref,\n",
    "                             foot_fr_z_ref,\n",
    "                             foot_rl_x_ref,\n",
    "                             foot_rl_y_ref,\n",
    "                             foot_rl_z_ref,\n",
    "                             foot_rr_x_ref,\n",
    "                             foot_rr_y_ref,\n",
    "                             foot_rr_z_ref))"
   ]
  },
  {
   "cell_type": "code",
   "execution_count": null,
   "id": "63ffbdbd",
   "metadata": {},
   "outputs": [],
   "source": [
    "gait_xyx = foot_locs_in[:, np.newaxis] + gait_xyx_offsets"
   ]
  },
  {
   "cell_type": "code",
   "execution_count": null,
   "id": "5e7a57cc",
   "metadata": {},
   "outputs": [],
   "source": [
    "gait_xyx.shape"
   ]
  },
  {
   "cell_type": "code",
   "execution_count": null,
   "id": "1132e17f",
   "metadata": {},
   "outputs": [],
   "source": [
    "gait_xyx[:,0]"
   ]
  },
  {
   "cell_type": "code",
   "execution_count": null,
   "id": "da3105d9",
   "metadata": {},
   "outputs": [],
   "source": [
    "results = [quad_inverse_kinematics(q_in, gait_xyx[:, i]) for i in range(gait_xyx.shape[1])]\n",
    "joints_config_gait = np.array(results).T  # Transpose if necessary"
   ]
  },
  {
   "cell_type": "code",
   "execution_count": null,
   "id": "e17d98ea",
   "metadata": {},
   "outputs": [],
   "source": [
    "joints_config_gait[0,:]"
   ]
  },
  {
   "cell_type": "code",
   "execution_count": null,
   "id": "da908825",
   "metadata": {},
   "outputs": [],
   "source": [
    "plt.plot(joints_config_gait[0,:])\n",
    "plt.plot(joints_config_gait[1,:])\n",
    "plt.plot(joints_config_gait[2,:])\n",
    "plt.plot(joints_config_gait[3,:])\n",
    "plt.plot(joints_config_gait[4,:])\n",
    "plt.plot(joints_config_gait[5,:])"
   ]
  },
  {
   "cell_type": "code",
   "execution_count": null,
   "id": "652abce2",
   "metadata": {},
   "outputs": [],
   "source": [
    "plt.plot(joints_config_gait[6,:])\n",
    "plt.plot(joints_config_gait[7,:])\n",
    "plt.plot(joints_config_gait[8,:])\n",
    "plt.plot(joints_config_gait[9,:])\n",
    "plt.plot(joints_config_gait[10,:])\n",
    "plt.plot(joints_config_gait[11,:])"
   ]
  },
  {
   "cell_type": "code",
   "execution_count": null,
   "id": "efdfb418",
   "metadata": {},
   "outputs": [],
   "source": [
    "# Creating 4 rows, 1 column of subplots\n",
    "fig, axs = plt.subplots(3, 1, figsize=(10, 12))\n",
    "\n",
    "# Plot each row\n",
    "axs[0].plot(joints_config_gait[0,:], 'r-')  # sin(x) in red\n",
    "axs[0].set_title('FL_0')\n",
    "\n",
    "# Plot each row\n",
    "axs[1].plot(joints_config_gait[1,:], 'r-')  # sin(x) in red\n",
    "axs[1].set_title('FL_1')\n",
    "\n",
    "# Plot each row\n",
    "axs[2].plot(joints_config_gait[2,:], 'r-')  # sin(x) in red\n",
    "axs[2].set_title('FL_2')\n",
    "\n",
    "# Automatically adjust subplot params for better layout\n",
    "plt.tight_layout()\n",
    "\n",
    "plt.show()"
   ]
  },
  {
   "cell_type": "code",
   "execution_count": null,
   "id": "593d949f",
   "metadata": {},
   "outputs": [],
   "source": [
    "joints_config_gait[:,0]"
   ]
  },
  {
   "cell_type": "code",
   "execution_count": null,
   "id": "6bc81c23",
   "metadata": {},
   "outputs": [],
   "source": [
    "joints_config_gait = joints_config_gait[[3, 4, 5, 0, 1, 2, 9, 10, 11, 6, 7, 8], :]"
   ]
  },
  {
   "cell_type": "code",
   "execution_count": null,
   "id": "df925f9e",
   "metadata": {},
   "outputs": [],
   "source": [
    "joints_config_gait.shape"
   ]
  },
  {
   "cell_type": "code",
   "execution_count": null,
   "id": "21f1505c",
   "metadata": {},
   "outputs": [],
   "source": [
    "gait_xyx[:,0]"
   ]
  },
  {
   "cell_type": "code",
   "execution_count": null,
   "id": "222c049c",
   "metadata": {},
   "outputs": [],
   "source": [
    "gait_xyx[:,0].shape"
   ]
  },
  {
   "cell_type": "code",
   "execution_count": null,
   "id": "add75a7d",
   "metadata": {
    "scrolled": true
   },
   "outputs": [],
   "source": [
    "foot_locs_in"
   ]
  },
  {
   "cell_type": "code",
   "execution_count": null,
   "id": "3923567c",
   "metadata": {},
   "outputs": [],
   "source": [
    "# reset robot (keyframes are defined in the xml)\n",
    "mujoco.mj_resetDataKeyframe(model_sim, data_sim, 0) # stand position\n",
    "mujoco.mj_forward(model_sim, data_sim)"
   ]
  },
  {
   "cell_type": "code",
   "execution_count": null,
   "id": "dee7aef5",
   "metadata": {},
   "outputs": [],
   "source": [
    "img = viewer.read_pixels()\n",
    "plt.imshow(img)"
   ]
  },
  {
   "cell_type": "code",
   "execution_count": null,
   "id": "9239564e",
   "metadata": {},
   "outputs": [],
   "source": [
    "%%time\n",
    "anim_imgs = []\n",
    "sim_inputs = []\n",
    "for ticks in range(phase_length()):\n",
    "    #print(ticks)\n",
    "    q_curr = cp.deepcopy(data_sim.qpos) # save reference pose\n",
    "    v_curr = cp.deepcopy(data_sim.qvel) # save reference pose\n",
    "    u_joints = joints_config_gait[:,ticks]\n",
    "    data_sim.qpos[7:] = u_joints\n",
    "    mujoco.mj_forward(model_sim, data_sim)\n",
    "    img = viewer.read_pixels()\n",
    "    anim_imgs.append(1*img)"
   ]
  },
  {
   "cell_type": "code",
   "execution_count": null,
   "id": "f9fec9ee",
   "metadata": {},
   "outputs": [],
   "source": [
    "fig, ax = plt.subplots()\n",
    "skip_frames = 1\n",
    "interval = dt_sim*1000*skip_frames\n",
    "\n",
    "def animate(i):\n",
    "    ax.clear()\n",
    "    ax.imshow(anim_imgs[i * skip_frames])  # Display the image, skipping frames\n",
    "    ax.axis('off')\n",
    "\n",
    "# Create animation, considering the reduced frame rate due to skipped frames\n",
    "ani = FuncAnimation(fig, animate, frames=len(anim_imgs) // skip_frames, interval=interval)  # 50 ms for 20 Hz\n",
    "\n",
    "# Display the animation\n",
    "HTML(ani.to_jshtml())"
   ]
  },
  {
   "cell_type": "code",
   "execution_count": null,
   "id": "32ebd299",
   "metadata": {},
   "outputs": [],
   "source": [
    "joints_velocity_gait = np.diff(joints_config_gait, axis=1) / DT\n",
    "\n",
    "# Since the finite differences reduce the size by 1 along the time axis, you might want to pad it if necessary\n",
    "# Example padding with zeros\n",
    "joints_velocity_gait = np.pad(joints_velocity_gait, ((0, 0), (0, 1)), mode='constant')"
   ]
  },
  {
   "cell_type": "code",
   "execution_count": null,
   "id": "2348a1c5",
   "metadata": {},
   "outputs": [],
   "source": [
    "joints_config_gait.shape"
   ]
  },
  {
   "cell_type": "code",
   "execution_count": null,
   "id": "b1c05187",
   "metadata": {},
   "outputs": [],
   "source": [
    "joints_velocity_gait.shape"
   ]
  },
  {
   "cell_type": "code",
   "execution_count": null,
   "id": "7e6cf713",
   "metadata": {},
   "outputs": [],
   "source": [
    "joints_gait = np.vstack((joints_config_gait, joints_velocity_gait))"
   ]
  },
  {
   "cell_type": "code",
   "execution_count": null,
   "id": "b7b6e2f4",
   "metadata": {},
   "outputs": [],
   "source": [
    "joints_gait = np.hstack((joints_gait, joints_gait))"
   ]
  },
  {
   "cell_type": "code",
   "execution_count": null,
   "id": "ca5c4a78",
   "metadata": {},
   "outputs": [],
   "source": [
    "joints_gait.shape"
   ]
  },
  {
   "cell_type": "code",
   "execution_count": null,
   "id": "efdd3292",
   "metadata": {},
   "outputs": [],
   "source": [
    "np.savetxt('../gaits/walking_gait_FASTER_HIGHER_25.tsv', joints_gait, delimiter='\\t')"
   ]
  },
  {
   "cell_type": "code",
   "execution_count": null,
   "id": "d1d10ee3",
   "metadata": {},
   "outputs": [],
   "source": [
    "walking_gait = np.loadtxt('../gaits/walking_gait_FASTER_HIGHER_25.tsv', delimiter='\\t')"
   ]
  },
  {
   "cell_type": "code",
   "execution_count": null,
   "id": "1cec8556",
   "metadata": {},
   "outputs": [],
   "source": [
    "walking_gait.shape"
   ]
  },
  {
   "cell_type": "code",
   "execution_count": null,
   "id": "82f956b2",
   "metadata": {},
   "outputs": [],
   "source": [
    "walking_gait[:,0]"
   ]
  },
  {
   "cell_type": "markdown",
   "id": "ace6d200-c169-4262-8b33-3e6fcd021d0b",
   "metadata": {},
   "source": [
    "### Viewer test"
   ]
  },
  {
   "cell_type": "code",
   "execution_count": 1,
   "id": "0e8c0cca-e246-4daa-9ce1-1f8a586922ce",
   "metadata": {},
   "outputs": [],
   "source": [
    "import matplotlib.pyplot as plt"
   ]
  },
  {
   "cell_type": "code",
   "execution_count": 2,
   "id": "fd1a01e5-a3fb-4898-bce6-7ee85e4f6e20",
   "metadata": {},
   "outputs": [],
   "source": [
    "import mujoco\n",
    "import mujoco_viewer\n",
    "import numpy as np\n",
    "\n",
    "MODEL_XML = \"\"\"\n",
    "<?xml version=\"1.0\" ?>\n",
    "<mujoco>\n",
    "  <asset>\n",
    "    <texture name=\"body\" type=\"cube\" builtin=\"flat\" mark=\"cross\" width=\"127\" height=\"1278\"\n",
    "             rgb1=\"0.8 0.6 0.4\" rgb2=\"0.8 0.6 0.4\" markrgb=\"1 1 1\" random=\"0.01\"/>\n",
    "    <material name=\"body\" texture=\"body\" texuniform=\"true\" rgba=\"0.8 0.6 .4 1\"/>\n",
    "    <texture name=\"grid\" type=\"2d\" builtin=\"checker\" width=\"512\" height=\"512\" rgb1=\".1 .2 .3\" rgb2=\".2 .3 .4\"/>\n",
    "    <material name=\"grid\" texture=\"grid\" texrepeat=\"1 1\" texuniform=\"true\" reflectance=\".2\"/>\n",
    "  </asset>\n",
    "    <worldbody>\n",
    "        <geom name=\"floor\" size=\"0 0 .05\" type=\"plane\" material=\"grid\" condim=\"3\"/>\n",
    "        <body name=\"box\" pos=\"0 0 1\">\n",
    "            <freejoint name=\"root\"/>\n",
    "            <geom size=\"0.15 0.15 0.15\" type=\"box\" material=\"body\" />\n",
    "        </body>\n",
    "    </worldbody>\n",
    "</mujoco>\n",
    "\"\"\"\n",
    "\n",
    "model = mujoco.MjModel.from_xml_string(MODEL_XML)\n",
    "data = mujoco.MjData(model)\n",
    "\n",
    "# create the viewer object\n",
    "viewer = mujoco_viewer.MujocoViewer(model, data, 'offscreen')    "
   ]
  },
  {
   "cell_type": "code",
   "execution_count": 3,
   "id": "305e4c37-a76b-46fe-864a-86aa2ddbecd9",
   "metadata": {},
   "outputs": [],
   "source": [
    "# sim step\n",
    "mujoco.mj_step(model, data)\n",
    "\n",
    "# draw origin\n",
    "x_dir = [[0, 0, 1], [0, 1, 0], [-1, 0, 0]]\n",
    "y_dir = [[1, 0, 0], [0, 0, 1], [0, -1, 0]]\n",
    "z_dir = [[1, 0, 0], [0, 1, 0], [0, 0, 1]]\n",
    "viewer.add_marker(\n",
    "    pos=[\n",
    "        0, 0, 0], size=[\n",
    "        0.05, 0.05, 0.05], rgba=[\n",
    "            1, 1, 1, 1], type=mujoco.mjtGeom.mjGEOM_SPHERE, label=\"origin\")\n",
    "viewer.add_marker(\n",
    "    pos=[\n",
    "        0, 0, 0], mat=x_dir, size=[\n",
    "        0.01, 0.01, 2], rgba=[\n",
    "            1, 0, 0, 0.2], type=mujoco.mjtGeom.mjGEOM_ARROW, label=\"\")\n",
    "viewer.add_marker(\n",
    "    pos=[\n",
    "        0, 0, 0], mat=y_dir, size=[\n",
    "        0.01, 0.01, 2], rgba=[\n",
    "            0, 1, 0, 0.2], type=mujoco.mjtGeom.mjGEOM_ARROW, label=\"\")\n",
    "viewer.add_marker(\n",
    "    pos=[\n",
    "        0, 0, 0], mat=z_dir, size=[\n",
    "        0.01, 0.01, 2], rgba=[\n",
    "            0, 0, 1, 0.2], type=mujoco.mjtGeom.mjGEOM_ARROW, label=\"\")\n",
    "\n",
    "# render"
   ]
  },
  {
   "cell_type": "code",
   "execution_count": 4,
   "id": "f28f7838-276f-4d37-97b3-653c3f3cae95",
   "metadata": {},
   "outputs": [
    {
     "data": {
      "text/plain": [
       "<matplotlib.image.AxesImage at 0x7f6eea3a7be0>"
      ]
     },
     "execution_count": 4,
     "metadata": {},
     "output_type": "execute_result"
    },
    {
     "data": {
      "image/png": "[encoded data removed]",
      "text/plain": [
       "<Figure size 640x480 with 1 Axes>"
      ]
     },
     "metadata": {},
     "output_type": "display_data"
    }
   ],
   "source": [
    "img = viewer.read_pixels()\n",
    "plt.imshow(img)"
   ]
  },
  {
   "cell_type": "code",
   "execution_count": null,
   "id": "7ca61429-5e93-4112-83fc-d45b40d0cb97",
   "metadata": {},
   "outputs": [],
   "source": []
  },
  {
   "cell_type": "code",
   "execution_count": null,
   "id": "8eae8ae8-21a4-43cd-9b1a-e0dad64a839c",
   "metadata": {},
   "outputs": [],
   "source": [
    "# close\n",
    "viewer.close()"
   ]
  },
  {
   "cell_type": "code",
   "execution_count": null,
   "id": "63541d0c-ae35-4954-abb4-74917a3e29e8",
   "metadata": {},
   "outputs": [],
   "source": []
  },
  {
   "cell_type": "code",
   "execution_count": null,
   "id": "dce7bb36-7702-4c07-a4f5-49df25098bdd",
   "metadata": {},
   "outputs": [],
   "source": []
  },
  {
   "cell_type": "code",
   "execution_count": null,
   "id": "13cfa5bd-8bd5-4370-bb4d-c2ff1cfb1659",
   "metadata": {},
   "outputs": [],
   "source": []
  }
 ],
 "metadata": {
  "kernelspec": {
   "display_name": "Python (base)",
   "language": "python",
   "name": "base"
  },
  "language_info": {
   "codemirror_mode": {
    "name": "ipython",
    "version": 3
   },
   "file_extension": ".py",
   "mimetype": "text/x-python",
   "name": "python",
   "nbconvert_exporter": "python",
   "pygments_lexer": "ipython3",
   "version": "3.9.13"
  }
 },
 "nbformat": 4,
 "nbformat_minor": 5
}
